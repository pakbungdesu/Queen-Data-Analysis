{
 "cells": [
  {
   "cell_type": "markdown",
   "metadata": {},
   "source": [
    "# Connect to Chinook Database"
   ]
  },
  {
   "cell_type": "code",
   "execution_count": 1,
   "metadata": {},
   "outputs": [],
   "source": [
    "from sqlalchemy import create_engine, inspect\n",
    "import pandas as pd"
   ]
  },
  {
   "cell_type": "markdown",
   "metadata": {},
   "source": [
    "## Check out table"
   ]
  },
  {
   "cell_type": "code",
   "execution_count": 2,
   "metadata": {},
   "outputs": [
    {
     "data": {
      "text/plain": [
       "['Album',\n",
       " 'Artist',\n",
       " 'Customer',\n",
       " 'Employee',\n",
       " 'Genre',\n",
       " 'Invoice',\n",
       " 'InvoiceLine',\n",
       " 'MediaType',\n",
       " 'Playlist',\n",
       " 'PlaylistTrack',\n",
       " 'Track']"
      ]
     },
     "execution_count": 2,
     "metadata": {},
     "output_type": "execute_result"
    }
   ],
   "source": [
    "engine = create_engine(\"sqlite:///Chinook.sqlite\")\n",
    "inspector = inspect(engine)\n",
    "table_names = inspector.get_table_names()\n",
    "table_names"
   ]
  },
  {
   "cell_type": "markdown",
   "metadata": {},
   "source": [
    "## Check out ArtistId"
   ]
  },
  {
   "cell_type": "code",
   "execution_count": 3,
   "metadata": {},
   "outputs": [
    {
     "data": {
      "text/plain": [
       "51"
      ]
     },
     "execution_count": 3,
     "metadata": {},
     "output_type": "execute_result"
    }
   ],
   "source": [
    "queen_df = pd.read_sql_query(\"SELECT * FROM Artist WHERE Name = 'Queen'\", con=engine)\n",
    "queen_id = int(queen_df[\"ArtistId\"].values[0])\n",
    "queen_id"
   ]
  },
  {
   "cell_type": "markdown",
   "metadata": {},
   "source": [
    "## Check out AlbumId"
   ]
  },
  {
   "cell_type": "code",
   "execution_count": 4,
   "metadata": {},
   "outputs": [
    {
     "data": {
      "text/html": [
       "<div>\n",
       "<style scoped>\n",
       "    .dataframe tbody tr th:only-of-type {\n",
       "        vertical-align: middle;\n",
       "    }\n",
       "\n",
       "    .dataframe tbody tr th {\n",
       "        vertical-align: top;\n",
       "    }\n",
       "\n",
       "    .dataframe thead th {\n",
       "        text-align: right;\n",
       "    }\n",
       "</style>\n",
       "<table border=\"1\" class=\"dataframe\">\n",
       "  <thead>\n",
       "    <tr style=\"text-align: right;\">\n",
       "      <th></th>\n",
       "      <th>AlbumId</th>\n",
       "      <th>Title</th>\n",
       "      <th>ArtistId</th>\n",
       "    </tr>\n",
       "  </thead>\n",
       "  <tbody>\n",
       "    <tr>\n",
       "      <th>0</th>\n",
       "      <td>36</td>\n",
       "      <td>Greatest Hits II</td>\n",
       "      <td>51</td>\n",
       "    </tr>\n",
       "    <tr>\n",
       "      <th>1</th>\n",
       "      <td>185</td>\n",
       "      <td>Greatest Hits I</td>\n",
       "      <td>51</td>\n",
       "    </tr>\n",
       "    <tr>\n",
       "      <th>2</th>\n",
       "      <td>186</td>\n",
       "      <td>News Of The World</td>\n",
       "      <td>51</td>\n",
       "    </tr>\n",
       "  </tbody>\n",
       "</table>\n",
       "</div>"
      ],
      "text/plain": [
       "   AlbumId              Title  ArtistId\n",
       "0       36   Greatest Hits II        51\n",
       "1      185    Greatest Hits I        51\n",
       "2      186  News Of The World        51"
      ]
     },
     "execution_count": 4,
     "metadata": {},
     "output_type": "execute_result"
    }
   ],
   "source": [
    "queen_album = pd.read_sql_query(f\"SELECT * FROM Album WHERE ArtistId = {queen_id}\", con=engine)\n",
    "queen_album"
   ]
  },
  {
   "cell_type": "code",
   "execution_count": 5,
   "metadata": {},
   "outputs": [
    {
     "data": {
      "text/plain": [
       "(36, 185, 186)"
      ]
     },
     "execution_count": 5,
     "metadata": {},
     "output_type": "execute_result"
    }
   ],
   "source": [
    "album_id = queen_album[\"AlbumId\"].values\n",
    "album_id = tuple(map(lambda x: int(x), album_id))\n",
    "album_id"
   ]
  },
  {
   "cell_type": "markdown",
   "metadata": {},
   "source": [
    "## Check out Track"
   ]
  },
  {
   "cell_type": "code",
   "execution_count": 6,
   "metadata": {},
   "outputs": [
    {
     "data": {
      "text/html": [
       "<div>\n",
       "<style scoped>\n",
       "    .dataframe tbody tr th:only-of-type {\n",
       "        vertical-align: middle;\n",
       "    }\n",
       "\n",
       "    .dataframe tbody tr th {\n",
       "        vertical-align: top;\n",
       "    }\n",
       "\n",
       "    .dataframe thead th {\n",
       "        text-align: right;\n",
       "    }\n",
       "</style>\n",
       "<table border=\"1\" class=\"dataframe\">\n",
       "  <thead>\n",
       "    <tr style=\"text-align: right;\">\n",
       "      <th></th>\n",
       "      <th>TrackId</th>\n",
       "      <th>Name</th>\n",
       "      <th>AlbumId</th>\n",
       "      <th>MediaTypeId</th>\n",
       "      <th>GenreId</th>\n",
       "      <th>Composer</th>\n",
       "      <th>Milliseconds</th>\n",
       "      <th>Bytes</th>\n",
       "      <th>UnitPrice</th>\n",
       "    </tr>\n",
       "  </thead>\n",
       "  <tbody>\n",
       "    <tr>\n",
       "      <th>0</th>\n",
       "      <td>419</td>\n",
       "      <td>A Kind Of Magic</td>\n",
       "      <td>36</td>\n",
       "      <td>1</td>\n",
       "      <td>1</td>\n",
       "      <td>Roger Taylor</td>\n",
       "      <td>262608</td>\n",
       "      <td>8689618</td>\n",
       "      <td>0.99</td>\n",
       "    </tr>\n",
       "    <tr>\n",
       "      <th>1</th>\n",
       "      <td>420</td>\n",
       "      <td>Under Pressure</td>\n",
       "      <td>36</td>\n",
       "      <td>1</td>\n",
       "      <td>1</td>\n",
       "      <td>Queen &amp; David Bowie</td>\n",
       "      <td>236617</td>\n",
       "      <td>7739042</td>\n",
       "      <td>0.99</td>\n",
       "    </tr>\n",
       "    <tr>\n",
       "      <th>2</th>\n",
       "      <td>421</td>\n",
       "      <td>Radio GA GA</td>\n",
       "      <td>36</td>\n",
       "      <td>1</td>\n",
       "      <td>1</td>\n",
       "      <td>Roger Taylor</td>\n",
       "      <td>343745</td>\n",
       "      <td>11358573</td>\n",
       "      <td>0.99</td>\n",
       "    </tr>\n",
       "    <tr>\n",
       "      <th>3</th>\n",
       "      <td>422</td>\n",
       "      <td>I Want It All</td>\n",
       "      <td>36</td>\n",
       "      <td>1</td>\n",
       "      <td>1</td>\n",
       "      <td>Queen</td>\n",
       "      <td>241684</td>\n",
       "      <td>7876564</td>\n",
       "      <td>0.99</td>\n",
       "    </tr>\n",
       "    <tr>\n",
       "      <th>4</th>\n",
       "      <td>423</td>\n",
       "      <td>I Want To Break Free</td>\n",
       "      <td>36</td>\n",
       "      <td>1</td>\n",
       "      <td>1</td>\n",
       "      <td>John Deacon</td>\n",
       "      <td>259108</td>\n",
       "      <td>8552861</td>\n",
       "      <td>0.99</td>\n",
       "    </tr>\n",
       "  </tbody>\n",
       "</table>\n",
       "</div>"
      ],
      "text/plain": [
       "   TrackId                  Name  AlbumId  MediaTypeId  GenreId  \\\n",
       "0      419       A Kind Of Magic       36            1        1   \n",
       "1      420        Under Pressure       36            1        1   \n",
       "2      421           Radio GA GA       36            1        1   \n",
       "3      422         I Want It All       36            1        1   \n",
       "4      423  I Want To Break Free       36            1        1   \n",
       "\n",
       "              Composer  Milliseconds     Bytes  UnitPrice  \n",
       "0         Roger Taylor        262608   8689618       0.99  \n",
       "1  Queen & David Bowie        236617   7739042       0.99  \n",
       "2         Roger Taylor        343745  11358573       0.99  \n",
       "3                Queen        241684   7876564       0.99  \n",
       "4          John Deacon        259108   8552861       0.99  "
      ]
     },
     "execution_count": 6,
     "metadata": {},
     "output_type": "execute_result"
    }
   ],
   "source": [
    "track_df = pd.read_sql_query(f\"SELECT * FROM Track WHERE AlbumId IN {album_id}\", con=engine)\n",
    "track_df.head()"
   ]
  },
  {
   "cell_type": "code",
   "execution_count": 7,
   "metadata": {},
   "outputs": [
    {
     "data": {
      "text/html": [
       "<div>\n",
       "<style scoped>\n",
       "    .dataframe tbody tr th:only-of-type {\n",
       "        vertical-align: middle;\n",
       "    }\n",
       "\n",
       "    .dataframe tbody tr th {\n",
       "        vertical-align: top;\n",
       "    }\n",
       "\n",
       "    .dataframe thead th {\n",
       "        text-align: right;\n",
       "    }\n",
       "</style>\n",
       "<table border=\"1\" class=\"dataframe\">\n",
       "  <thead>\n",
       "    <tr style=\"text-align: right;\">\n",
       "      <th></th>\n",
       "      <th>TrackId</th>\n",
       "      <th>title</th>\n",
       "      <th>AlbumId</th>\n",
       "      <th>MediaTypeId</th>\n",
       "      <th>GenreId</th>\n",
       "      <th>Composer</th>\n",
       "      <th>milliseconds</th>\n",
       "      <th>Bytes</th>\n",
       "      <th>UnitPrice</th>\n",
       "    </tr>\n",
       "  </thead>\n",
       "  <tbody>\n",
       "    <tr>\n",
       "      <th>0</th>\n",
       "      <td>419</td>\n",
       "      <td>A Kind Of Magic</td>\n",
       "      <td>36</td>\n",
       "      <td>1</td>\n",
       "      <td>1</td>\n",
       "      <td>Roger Taylor</td>\n",
       "      <td>262608</td>\n",
       "      <td>8689618</td>\n",
       "      <td>0.99</td>\n",
       "    </tr>\n",
       "    <tr>\n",
       "      <th>1</th>\n",
       "      <td>420</td>\n",
       "      <td>Under Pressure</td>\n",
       "      <td>36</td>\n",
       "      <td>1</td>\n",
       "      <td>1</td>\n",
       "      <td>Queen &amp; David Bowie</td>\n",
       "      <td>236617</td>\n",
       "      <td>7739042</td>\n",
       "      <td>0.99</td>\n",
       "    </tr>\n",
       "    <tr>\n",
       "      <th>2</th>\n",
       "      <td>421</td>\n",
       "      <td>Radio GA GA</td>\n",
       "      <td>36</td>\n",
       "      <td>1</td>\n",
       "      <td>1</td>\n",
       "      <td>Roger Taylor</td>\n",
       "      <td>343745</td>\n",
       "      <td>11358573</td>\n",
       "      <td>0.99</td>\n",
       "    </tr>\n",
       "    <tr>\n",
       "      <th>3</th>\n",
       "      <td>422</td>\n",
       "      <td>I Want It All</td>\n",
       "      <td>36</td>\n",
       "      <td>1</td>\n",
       "      <td>1</td>\n",
       "      <td>Queen</td>\n",
       "      <td>241684</td>\n",
       "      <td>7876564</td>\n",
       "      <td>0.99</td>\n",
       "    </tr>\n",
       "    <tr>\n",
       "      <th>4</th>\n",
       "      <td>423</td>\n",
       "      <td>I Want To Break Free</td>\n",
       "      <td>36</td>\n",
       "      <td>1</td>\n",
       "      <td>1</td>\n",
       "      <td>John Deacon</td>\n",
       "      <td>259108</td>\n",
       "      <td>8552861</td>\n",
       "      <td>0.99</td>\n",
       "    </tr>\n",
       "  </tbody>\n",
       "</table>\n",
       "</div>"
      ],
      "text/plain": [
       "   TrackId                 title  AlbumId  MediaTypeId  GenreId  \\\n",
       "0      419       A Kind Of Magic       36            1        1   \n",
       "1      420        Under Pressure       36            1        1   \n",
       "2      421           Radio GA GA       36            1        1   \n",
       "3      422         I Want It All       36            1        1   \n",
       "4      423  I Want To Break Free       36            1        1   \n",
       "\n",
       "              Composer  milliseconds     Bytes  UnitPrice  \n",
       "0         Roger Taylor        262608   8689618       0.99  \n",
       "1  Queen & David Bowie        236617   7739042       0.99  \n",
       "2         Roger Taylor        343745  11358573       0.99  \n",
       "3                Queen        241684   7876564       0.99  \n",
       "4          John Deacon        259108   8552861       0.99  "
      ]
     },
     "execution_count": 7,
     "metadata": {},
     "output_type": "execute_result"
    }
   ],
   "source": [
    "track_df.rename(columns={\"Name\":\"title\", \"Milliseconds\":\"milliseconds\"}, inplace=True)\n",
    "track_df.head()"
   ]
  },
  {
   "cell_type": "code",
   "execution_count": 8,
   "metadata": {},
   "outputs": [
    {
     "name": "stdout",
     "output_type": "stream",
     "text": [
      "<class 'pandas.core.frame.DataFrame'>\n",
      "RangeIndex: 45 entries, 0 to 44\n",
      "Data columns (total 9 columns):\n",
      " #   Column        Non-Null Count  Dtype  \n",
      "---  ------        --------------  -----  \n",
      " 0   TrackId       45 non-null     int64  \n",
      " 1   title         45 non-null     object \n",
      " 2   AlbumId       45 non-null     int64  \n",
      " 3   MediaTypeId   45 non-null     int64  \n",
      " 4   GenreId       45 non-null     int64  \n",
      " 5   Composer      45 non-null     object \n",
      " 6   milliseconds  45 non-null     int64  \n",
      " 7   Bytes         45 non-null     int64  \n",
      " 8   UnitPrice     45 non-null     float64\n",
      "dtypes: float64(1), int64(6), object(2)\n",
      "memory usage: 3.3+ KB\n"
     ]
    }
   ],
   "source": [
    "track_df.info()"
   ]
  },
  {
   "cell_type": "code",
   "execution_count": 9,
   "metadata": {},
   "outputs": [
    {
     "data": {
      "text/html": [
       "<div>\n",
       "<style scoped>\n",
       "    .dataframe tbody tr th:only-of-type {\n",
       "        vertical-align: middle;\n",
       "    }\n",
       "\n",
       "    .dataframe tbody tr th {\n",
       "        vertical-align: top;\n",
       "    }\n",
       "\n",
       "    .dataframe thead th {\n",
       "        text-align: right;\n",
       "    }\n",
       "</style>\n",
       "<table border=\"1\" class=\"dataframe\">\n",
       "  <thead>\n",
       "    <tr style=\"text-align: right;\">\n",
       "      <th></th>\n",
       "      <th>TrackId</th>\n",
       "      <th>title</th>\n",
       "      <th>AlbumId</th>\n",
       "      <th>MediaTypeId</th>\n",
       "      <th>GenreId</th>\n",
       "      <th>Composer</th>\n",
       "      <th>milliseconds</th>\n",
       "      <th>Bytes</th>\n",
       "      <th>UnitPrice</th>\n",
       "      <th>minute</th>\n",
       "    </tr>\n",
       "  </thead>\n",
       "  <tbody>\n",
       "    <tr>\n",
       "      <th>0</th>\n",
       "      <td>419</td>\n",
       "      <td>A Kind Of Magic</td>\n",
       "      <td>36</td>\n",
       "      <td>1</td>\n",
       "      <td>1</td>\n",
       "      <td>Roger Taylor</td>\n",
       "      <td>262608</td>\n",
       "      <td>8689618</td>\n",
       "      <td>0.99</td>\n",
       "      <td>4.38</td>\n",
       "    </tr>\n",
       "    <tr>\n",
       "      <th>1</th>\n",
       "      <td>420</td>\n",
       "      <td>Under Pressure</td>\n",
       "      <td>36</td>\n",
       "      <td>1</td>\n",
       "      <td>1</td>\n",
       "      <td>Queen &amp; David Bowie</td>\n",
       "      <td>236617</td>\n",
       "      <td>7739042</td>\n",
       "      <td>0.99</td>\n",
       "      <td>3.94</td>\n",
       "    </tr>\n",
       "    <tr>\n",
       "      <th>2</th>\n",
       "      <td>421</td>\n",
       "      <td>Radio GA GA</td>\n",
       "      <td>36</td>\n",
       "      <td>1</td>\n",
       "      <td>1</td>\n",
       "      <td>Roger Taylor</td>\n",
       "      <td>343745</td>\n",
       "      <td>11358573</td>\n",
       "      <td>0.99</td>\n",
       "      <td>5.73</td>\n",
       "    </tr>\n",
       "    <tr>\n",
       "      <th>3</th>\n",
       "      <td>422</td>\n",
       "      <td>I Want It All</td>\n",
       "      <td>36</td>\n",
       "      <td>1</td>\n",
       "      <td>1</td>\n",
       "      <td>Queen</td>\n",
       "      <td>241684</td>\n",
       "      <td>7876564</td>\n",
       "      <td>0.99</td>\n",
       "      <td>4.03</td>\n",
       "    </tr>\n",
       "    <tr>\n",
       "      <th>4</th>\n",
       "      <td>423</td>\n",
       "      <td>I Want To Break Free</td>\n",
       "      <td>36</td>\n",
       "      <td>1</td>\n",
       "      <td>1</td>\n",
       "      <td>John Deacon</td>\n",
       "      <td>259108</td>\n",
       "      <td>8552861</td>\n",
       "      <td>0.99</td>\n",
       "      <td>4.32</td>\n",
       "    </tr>\n",
       "  </tbody>\n",
       "</table>\n",
       "</div>"
      ],
      "text/plain": [
       "   TrackId                 title  AlbumId  MediaTypeId  GenreId  \\\n",
       "0      419       A Kind Of Magic       36            1        1   \n",
       "1      420        Under Pressure       36            1        1   \n",
       "2      421           Radio GA GA       36            1        1   \n",
       "3      422         I Want It All       36            1        1   \n",
       "4      423  I Want To Break Free       36            1        1   \n",
       "\n",
       "              Composer  milliseconds     Bytes  UnitPrice  minute  \n",
       "0         Roger Taylor        262608   8689618       0.99    4.38  \n",
       "1  Queen & David Bowie        236617   7739042       0.99    3.94  \n",
       "2         Roger Taylor        343745  11358573       0.99    5.73  \n",
       "3                Queen        241684   7876564       0.99    4.03  \n",
       "4          John Deacon        259108   8552861       0.99    4.32  "
      ]
     },
     "execution_count": 9,
     "metadata": {},
     "output_type": "execute_result"
    }
   ],
   "source": [
    "track_df[\"minute\"] = round(track_df[\"milliseconds\"] / 60000, 2)\n",
    "track_df.head()"
   ]
  },
  {
   "cell_type": "code",
   "execution_count": 10,
   "metadata": {},
   "outputs": [
    {
     "data": {
      "text/html": [
       "<div>\n",
       "<style scoped>\n",
       "    .dataframe tbody tr th:only-of-type {\n",
       "        vertical-align: middle;\n",
       "    }\n",
       "\n",
       "    .dataframe tbody tr th {\n",
       "        vertical-align: top;\n",
       "    }\n",
       "\n",
       "    .dataframe thead th {\n",
       "        text-align: right;\n",
       "    }\n",
       "</style>\n",
       "<table border=\"1\" class=\"dataframe\">\n",
       "  <thead>\n",
       "    <tr style=\"text-align: right;\">\n",
       "      <th></th>\n",
       "      <th>title</th>\n",
       "      <th>minute</th>\n",
       "    </tr>\n",
       "  </thead>\n",
       "  <tbody>\n",
       "    <tr>\n",
       "      <th>0</th>\n",
       "      <td>A Kind Of Magic</td>\n",
       "      <td>4.38</td>\n",
       "    </tr>\n",
       "    <tr>\n",
       "      <th>1</th>\n",
       "      <td>Under Pressure</td>\n",
       "      <td>3.94</td>\n",
       "    </tr>\n",
       "    <tr>\n",
       "      <th>2</th>\n",
       "      <td>Radio GA GA</td>\n",
       "      <td>5.73</td>\n",
       "    </tr>\n",
       "    <tr>\n",
       "      <th>3</th>\n",
       "      <td>I Want It All</td>\n",
       "      <td>4.03</td>\n",
       "    </tr>\n",
       "    <tr>\n",
       "      <th>4</th>\n",
       "      <td>I Want To Break Free</td>\n",
       "      <td>4.32</td>\n",
       "    </tr>\n",
       "  </tbody>\n",
       "</table>\n",
       "</div>"
      ],
      "text/plain": [
       "                  title  minute\n",
       "0       A Kind Of Magic    4.38\n",
       "1        Under Pressure    3.94\n",
       "2           Radio GA GA    5.73\n",
       "3         I Want It All    4.03\n",
       "4  I Want To Break Free    4.32"
      ]
     },
     "execution_count": 10,
     "metadata": {},
     "output_type": "execute_result"
    }
   ],
   "source": [
    "chinook = track_df[[\"title\", \"minute\"]]\n",
    "chinook.head()"
   ]
  },
  {
   "cell_type": "markdown",
   "metadata": {},
   "source": [
    "# Web Scraping and Cleaning data"
   ]
  },
  {
   "cell_type": "code",
   "execution_count": 11,
   "metadata": {},
   "outputs": [],
   "source": [
    "import gazpacho as gaz\n",
    "import pandas as pd\n",
    "import requests"
   ]
  },
  {
   "cell_type": "code",
   "execution_count": 12,
   "metadata": {},
   "outputs": [],
   "source": [
    "extract_text = lambda x: x.find(\"a\").strip() if x.find(\"a\") else x.strip()\n",
    "strip_text = lambda x: x.strip() if x else \"\"\n",
    "append_list = lambda mylist, x: mylist.append(x)"
   ]
  },
  {
   "cell_type": "markdown",
   "metadata": {},
   "source": [
    "## Knorb.net"
   ]
  },
  {
   "cell_type": "code",
   "execution_count": 13,
   "metadata": {},
   "outputs": [
    {
     "data": {
      "text/plain": [
       "200"
      ]
     },
     "execution_count": 13,
     "metadata": {},
     "output_type": "execute_result"
    }
   ],
   "source": [
    "url = \"https://kworb.net/spotify/artist/1dfeR4HaWDbWqFHLkxsg1d_songs.html\"\n",
    "response = requests.get(url)\n",
    "response.status_code"
   ]
  },
  {
   "cell_type": "code",
   "execution_count": 14,
   "metadata": {},
   "outputs": [],
   "source": [
    "txt = gaz.Soup(response.text)\n",
    "table = txt.find(\"table\")\n",
    "table = table[1].find(\"tr\")[1:]"
   ]
  },
  {
   "cell_type": "code",
   "execution_count": 15,
   "metadata": {},
   "outputs": [
    {
     "data": {
      "text/plain": [
       "'Bohemian Rhapsody - Remastered 2011'"
      ]
     },
     "execution_count": 15,
     "metadata": {},
     "output_type": "execute_result"
    }
   ],
   "source": [
    "table[0].find(\"td\")[0].find(\"a\").strip()"
   ]
  },
  {
   "cell_type": "code",
   "execution_count": 16,
   "metadata": {},
   "outputs": [],
   "source": [
    "title, streams, daily = [], [], []\n",
    "for line in table:\n",
    "    song = line.find(\"td\")\n",
    "    \n",
    "    tt = song[0].find(\"a\").strip()\n",
    "    st, dy = map(strip_text, [song[1], song[2]])\n",
    "    \n",
    "    title.append(tt), streams.append(st), daily.append(dy)"
   ]
  },
  {
   "cell_type": "code",
   "execution_count": 17,
   "metadata": {},
   "outputs": [
    {
     "name": "stdout",
     "output_type": "stream",
     "text": [
      "['2,702,397,004', '2,231,639,815', '2,088,920,718', '1,804,381,395', '1,458,541,650', '1,050,455,163', '965,872,248', '940,827,544', '781,559,738', '670,678,770', '624,446,835', '497,243,881', '452,990,254', '388,027,269', '371,326,564', '327,655,699', '315,644,132', '310,586,970', '297,196,605', '295,138,878', '209,943,223', '185,705,466', '168,045,832', '163,814,960', '128,972,728', '125,795,529', '122,138,967', '118,747,186', '111,552,365', '111,516,234', '106,820,908', '100,322,877', '100,035,064', '98,887,439', '96,642,290', '94,557,440', '93,794,422', '91,860,603', '91,180,167', '87,168,533', '86,460,797', '84,594,852', '80,032,371', '74,677,482', '74,520,062', '69,006,128', '64,812,243', '62,742,323', '62,339,444', '61,433,363', '61,363,828', '61,012,425', '59,858,810', '59,228,788', '58,865,439', '57,802,660', '57,303,048', '56,526,968', '55,991,242', '52,203,301', '49,110,658', '47,574,014', '46,719,570', '45,847,493', '44,815,814', '42,152,389', '34,879,687', '32,911,074', '31,235,652', '30,404,621', '28,111,889', '27,733,873', '26,658,728', '26,325,929', '25,737,389', '25,530,771', '25,486,429', '24,198,885', '23,763,486', '22,188,317', '21,925,578', '21,336,115', '20,878,195', '18,637,040', '18,506,643', '18,117,977', '17,703,794', '17,150,146', '16,030,454', '15,777,954', '15,124,255', '15,044,268', '14,650,609', '14,370,294', '14,297,759', '14,216,570', '14,052,031', '13,674,650', '13,474,974', '13,464,778', '12,891,468', '12,788,826', '12,698,623', '12,673,331', '12,604,370', '12,530,903', '12,067,678', '11,970,097', '11,899,165', '11,711,728', '11,615,330', '11,551,115', '11,415,639', '11,251,977', '11,077,137', '11,009,031', '11,008,650', '10,640,797', '10,602,123', '10,286,526', '10,211,787', '9,696,991', '9,617,842', '9,569,371', '9,555,464', '9,497,669', '9,374,682', '9,253,824', '9,234,819', '9,189,524', '9,040,768', '8,529,540', '8,510,705', '8,494,272', '8,423,899', '8,356,457', '8,306,426', '8,264,139', '8,027,256', '8,018,954', '7,982,783', '7,851,513', '7,640,042', '7,596,698', '7,567,676', '7,534,751', '7,530,272', '7,519,096', '7,453,936', '7,374,582', '7,354,617', '7,288,783', '7,132,777', '7,086,017', '7,005,925', '6,918,669', '6,914,346', '6,800,360', '6,745,513', '6,697,080', '6,609,220', '6,480,657', '6,438,112', '6,428,665', '6,391,255', '6,364,231', '6,329,211', '6,307,778', '6,300,835', '6,223,644', '6,196,476', '6,185,945', '6,174,021', '6,054,719', '5,955,163', '5,933,333', '5,930,709', '5,882,780', '5,809,693', '5,653,186', '5,637,716', '5,588,044', '5,541,940', '5,512,410', '5,351,268', '5,345,808', '5,233,303', '5,083,120', '5,082,484', '5,073,992', '5,066,231', '4,999,704', '4,942,246', '4,931,092', '4,920,363', '4,855,883', '4,783,360', '4,779,974', '4,774,171', '4,764,547', '4,738,755', '4,735,849', '4,734,744', '4,639,738', '4,634,571', '4,621,299', '4,577,158', '4,563,451', '4,548,931', '4,507,829', '4,503,311', '4,455,442', '4,453,340', '4,431,035', '4,419,356', '4,415,078', '4,413,713', '4,393,842', '4,380,391', '4,362,602', '4,333,141', '4,274,898', '4,252,718', '4,234,471', '4,210,038', '4,185,736', '4,173,977', '4,133,569', '4,057,037', '4,044,603', '4,003,245', '4,000,747', '3,981,491', '3,973,083', '3,948,873', '3,916,776', '3,900,840', '3,832,568', '3,820,077', '3,817,505', '3,807,077', '3,783,207', '3,781,532', '3,780,790', '3,769,306', '3,769,268', '3,706,523', '3,705,966', '3,669,811', '3,647,436', '3,636,086', '3,599,955', '3,598,366', '3,595,935', '3,584,622', '3,576,051', '3,547,133', '3,546,032', '3,511,528', '3,494,784', '3,482,716', '3,472,147', '3,450,230', '3,428,561', '3,410,609', '3,384,588', '3,378,678', '3,365,368', '3,359,841', '3,347,886', '3,337,480', '3,329,566', '3,323,223', '3,288,433', '3,247,295', '3,243,875', '3,216,437', '3,195,344', '3,176,326', '3,165,448', '3,099,837', '3,073,829', '3,004,922', '2,968,361', '2,963,517', '2,962,502', '2,962,180', '2,945,432', '2,920,167', '2,917,085', '2,911,507', '2,907,058', '2,897,827', '2,853,776', '2,824,584', '2,786,144', '2,771,265', '2,746,872', '2,719,993', '2,704,438', '2,697,413', '2,680,493', '2,677,510', '2,667,313', '2,581,343', '2,535,931', '2,516,243', '2,469,095', '2,459,406', '2,457,040', '2,419,959', '2,414,913', '2,405,856', '2,385,795', '2,370,726', '2,369,276', '2,335,642', '2,325,462', '2,312,627', '2,307,449', '2,304,828', '2,283,833', '2,269,622', '2,265,232', '2,264,878', '2,264,073', '2,260,469', '2,242,782', '2,211,553', '2,207,286', '2,204,878', '2,199,423', '2,192,820', '2,183,623', '2,163,895', '2,153,368', '2,148,390', '2,142,771', '2,134,281', '2,127,948', '2,123,975', '2,099,533', '2,072,845', '2,065,728', '2,059,676', '2,045,533', '2,043,673', '2,038,200', '2,036,510', '2,011,163', '2,004,334', '1,979,347', '1,951,154', '1,930,783', '1,927,149', '1,921,217', '1,899,117', '1,896,709', '1,887,456', '1,871,736', '1,826,616', '1,811,810', '1,790,766', '1,790,589', '1,780,458', '1,780,074', '1,776,044', '1,761,723', '1,759,395', '1,754,905', '1,744,582', '1,744,576', '1,735,789', '1,718,317', '1,706,614', '1,683,211', '1,681,910', '1,679,407', '1,677,990', '1,673,963', '1,673,686', '1,633,516', '1,605,719', '1,598,537', '1,582,910', '1,580,798', '1,574,707', '1,564,211', '1,546,761', '1,537,722', '1,535,151', '1,524,021', '1,516,117', '1,502,366', '1,488,954', '1,467,950', '1,456,328', '1,436,619', '1,429,516', '1,423,048', '1,382,469', '1,377,773', '1,366,894', '1,365,637', '1,344,615', '1,336,911', '1,332,511', '1,316,556', '1,294,787', '1,294,569', '1,283,610', '1,275,202', '1,273,674', '1,257,011', '1,247,386', '1,235,351', '1,230,544', '1,229,904', '1,223,445', '1,200,783', '1,191,342', '1,187,028', '1,174,480', '1,173,119', '1,171,881', '1,164,543', '1,159,666', '1,159,392', '1,136,610', '1,131,907', '1,125,599', '1,117,924', '1,116,584', '1,109,943', '1,094,943', '1,085,168', '1,071,964', '1,067,018', '1,050,769', '1,047,577', '1,046,817', '1,045,946', '1,036,546', '1,035,542', '1,033,114', '1,030,102', '1,022,172', '1,015,199', '1,011,708', '1,002,865', '999,723', '998,662', '989,496', '983,237', '979,215', '978,631', '972,597', '965,375', '962,287', '958,415', '945,126', '937,343', '934,928', '932,071', '921,257', '914,764', '900,988', '900,621', '896,063', '895,339', '893,716', '892,569', '889,012', '880,543', '879,529', '872,192', '870,777', '866,515', '862,189', '859,474', '856,898', '856,106', '850,639', '846,240', '836,754', '833,243', '831,782', '828,376', '828,180', '827,548', '814,989', '804,360', '799,514', '799,054', '796,269', '770,828', '768,390', '767,786', '760,945', '760,678']\n"
     ]
    }
   ],
   "source": [
    "print(streams)"
   ]
  },
  {
   "cell_type": "code",
   "execution_count": 18,
   "metadata": {},
   "outputs": [
    {
     "data": {
      "text/plain": [
       "0"
      ]
     },
     "execution_count": 18,
     "metadata": {},
     "output_type": "execute_result"
    }
   ],
   "source": [
    "len(daily[368])"
   ]
  },
  {
   "cell_type": "code",
   "execution_count": 19,
   "metadata": {},
   "outputs": [
    {
     "data": {
      "text/plain": [
       "''"
      ]
     },
     "execution_count": 19,
     "metadata": {},
     "output_type": "execute_result"
    }
   ],
   "source": [
    "\"\".join(\"\".split(\",\"))"
   ]
  },
  {
   "cell_type": "code",
   "execution_count": 20,
   "metadata": {},
   "outputs": [],
   "source": [
    "title_clean, streams_clean, daily_clean = [], [], []\n",
    "clean1 = lambda x: x[:x.find(\" - \")]\n",
    "clean2 = lambda x: int(\"\".join(x.split(\",\"))) if \"\".join(x.split(\",\")) != \"\" else 0\n",
    "\n",
    "for i in range(len(title)):\n",
    "    tt = title[i][: title[i].find(\" - \")]\n",
    "    st, dy = map(clean2, [streams[i], daily[i]])\n",
    "    \n",
    "    list_vars = [title_clean, streams_clean, daily_clean]\n",
    "    values = [tt, st, dy]\n",
    "\n",
    "    list(map(lambda lst, val: lst.append(val), list_vars, values))"
   ]
  },
  {
   "cell_type": "code",
   "execution_count": 21,
   "metadata": {},
   "outputs": [
    {
     "data": {
      "text/html": [
       "<div>\n",
       "<style scoped>\n",
       "    .dataframe tbody tr th:only-of-type {\n",
       "        vertical-align: middle;\n",
       "    }\n",
       "\n",
       "    .dataframe tbody tr th {\n",
       "        vertical-align: top;\n",
       "    }\n",
       "\n",
       "    .dataframe thead th {\n",
       "        text-align: right;\n",
       "    }\n",
       "</style>\n",
       "<table border=\"1\" class=\"dataframe\">\n",
       "  <thead>\n",
       "    <tr style=\"text-align: right;\">\n",
       "      <th></th>\n",
       "      <th>title</th>\n",
       "      <th>streams</th>\n",
       "      <th>daily</th>\n",
       "    </tr>\n",
       "  </thead>\n",
       "  <tbody>\n",
       "    <tr>\n",
       "      <th>0</th>\n",
       "      <td>Bohemian Rhapsody</td>\n",
       "      <td>2702397004</td>\n",
       "      <td>927623</td>\n",
       "    </tr>\n",
       "    <tr>\n",
       "      <th>42</th>\n",
       "      <td>Bohemian Rhapsody</td>\n",
       "      <td>80032371</td>\n",
       "      <td>14410</td>\n",
       "    </tr>\n",
       "    <tr>\n",
       "      <th>80</th>\n",
       "      <td>Bohemian Rhapsody</td>\n",
       "      <td>21925578</td>\n",
       "      <td>6350</td>\n",
       "    </tr>\n",
       "    <tr>\n",
       "      <th>95</th>\n",
       "      <td>Bohemian Rhapsody</td>\n",
       "      <td>14216570</td>\n",
       "      <td>3852</td>\n",
       "    </tr>\n",
       "    <tr>\n",
       "      <th>140</th>\n",
       "      <td>Bohemian Rhapsody</td>\n",
       "      <td>7982783</td>\n",
       "      <td>1776</td>\n",
       "    </tr>\n",
       "    <tr>\n",
       "      <th>187</th>\n",
       "      <td>Bohemian Rhapsody</td>\n",
       "      <td>5083120</td>\n",
       "      <td>635</td>\n",
       "    </tr>\n",
       "    <tr>\n",
       "      <th>225</th>\n",
       "      <td>Bohemian Rhapsody</td>\n",
       "      <td>4185736</td>\n",
       "      <td>568</td>\n",
       "    </tr>\n",
       "    <tr>\n",
       "      <th>283</th>\n",
       "      <td>Bohemian Rhapsody</td>\n",
       "      <td>2968361</td>\n",
       "      <td>183</td>\n",
       "    </tr>\n",
       "    <tr>\n",
       "      <th>289</th>\n",
       "      <td>Bohemian Rhapsody</td>\n",
       "      <td>2917085</td>\n",
       "      <td>545</td>\n",
       "    </tr>\n",
       "    <tr>\n",
       "      <th>407</th>\n",
       "      <td>Bohemian Rhapsody</td>\n",
       "      <td>1316556</td>\n",
       "      <td>243</td>\n",
       "    </tr>\n",
       "    <tr>\n",
       "      <th>418</th>\n",
       "      <td>Bohemian Rhapsody</td>\n",
       "      <td>1223445</td>\n",
       "      <td>227</td>\n",
       "    </tr>\n",
       "    <tr>\n",
       "      <th>482</th>\n",
       "      <td>Bohemian Rhapsody</td>\n",
       "      <td>850639</td>\n",
       "      <td>71</td>\n",
       "    </tr>\n",
       "  </tbody>\n",
       "</table>\n",
       "</div>"
      ],
      "text/plain": [
       "                 title     streams   daily\n",
       "0    Bohemian Rhapsody  2702397004  927623\n",
       "42   Bohemian Rhapsody    80032371   14410\n",
       "80   Bohemian Rhapsody    21925578    6350\n",
       "95   Bohemian Rhapsody    14216570    3852\n",
       "140  Bohemian Rhapsody     7982783    1776\n",
       "187  Bohemian Rhapsody     5083120     635\n",
       "225  Bohemian Rhapsody     4185736     568\n",
       "283  Bohemian Rhapsody     2968361     183\n",
       "289  Bohemian Rhapsody     2917085     545\n",
       "407  Bohemian Rhapsody     1316556     243\n",
       "418  Bohemian Rhapsody     1223445     227\n",
       "482  Bohemian Rhapsody      850639      71"
      ]
     },
     "execution_count": 21,
     "metadata": {},
     "output_type": "execute_result"
    }
   ],
   "source": [
    "list_of_tuples = list(zip(title_clean, streams_clean, daily_clean))\n",
    "df1 = pd.DataFrame(list_of_tuples, columns=[\"title\", \"streams\", \"daily\"])\n",
    "df1[df1[\"title\"] == \"Bohemian Rhapsody\"]"
   ]
  },
  {
   "cell_type": "markdown",
   "metadata": {},
   "source": [
    "Filter the duplicate name and remain the highest streams column"
   ]
  },
  {
   "cell_type": "code",
   "execution_count": 22,
   "metadata": {},
   "outputs": [
    {
     "data": {
      "text/html": [
       "<div>\n",
       "<style scoped>\n",
       "    .dataframe tbody tr th:only-of-type {\n",
       "        vertical-align: middle;\n",
       "    }\n",
       "\n",
       "    .dataframe tbody tr th {\n",
       "        vertical-align: top;\n",
       "    }\n",
       "\n",
       "    .dataframe thead th {\n",
       "        text-align: right;\n",
       "    }\n",
       "</style>\n",
       "<table border=\"1\" class=\"dataframe\">\n",
       "  <thead>\n",
       "    <tr style=\"text-align: right;\">\n",
       "      <th></th>\n",
       "      <th>title</th>\n",
       "      <th>streams</th>\n",
       "      <th>daily</th>\n",
       "    </tr>\n",
       "  </thead>\n",
       "  <tbody>\n",
       "    <tr>\n",
       "      <th>43</th>\n",
       "      <td>'39</td>\n",
       "      <td>74677482</td>\n",
       "      <td>19795</td>\n",
       "    </tr>\n",
       "    <tr>\n",
       "      <th>264</th>\n",
       "      <td>(You're So Square) Baby I Don't Care</td>\n",
       "      <td>3410609</td>\n",
       "      <td>664</td>\n",
       "    </tr>\n",
       "    <tr>\n",
       "      <th>461</th>\n",
       "      <td>A Human Body</td>\n",
       "      <td>937343</td>\n",
       "      <td>199</td>\n",
       "    </tr>\n",
       "    <tr>\n",
       "      <th>18</th>\n",
       "      <td>A Kind Of Magic</td>\n",
       "      <td>297196605</td>\n",
       "      <td>200002</td>\n",
       "    </tr>\n",
       "    <tr>\n",
       "      <th>124</th>\n",
       "      <td>A Kind of Magic</td>\n",
       "      <td>9555464</td>\n",
       "      <td>2456</td>\n",
       "    </tr>\n",
       "  </tbody>\n",
       "</table>\n",
       "</div>"
      ],
      "text/plain": [
       "                                    title    streams   daily\n",
       "43                                    '39   74677482   19795\n",
       "264  (You're So Square) Baby I Don't Care    3410609     664\n",
       "461                          A Human Body     937343     199\n",
       "18                        A Kind Of Magic  297196605  200002\n",
       "124                       A Kind of Magic    9555464    2456"
      ]
     },
     "execution_count": 22,
     "metadata": {},
     "output_type": "execute_result"
    }
   ],
   "source": [
    "idx = df1.groupby(\"title\")[\"streams\"].idxmax()\n",
    "df2 = df1.loc[idx]\n",
    "df2.head()"
   ]
  },
  {
   "cell_type": "markdown",
   "metadata": {},
   "source": [
    "## Wiki Fandom"
   ]
  },
  {
   "cell_type": "code",
   "execution_count": 23,
   "metadata": {},
   "outputs": [
    {
     "data": {
      "text/plain": [
       "200"
      ]
     },
     "execution_count": 23,
     "metadata": {},
     "output_type": "execute_result"
    }
   ],
   "source": [
    "url = \"https://queen.fandom.com/wiki/List_of_Songs\"\n",
    "response = requests.get(url)\n",
    "response.status_code"
   ]
  },
  {
   "cell_type": "code",
   "execution_count": 24,
   "metadata": {},
   "outputs": [],
   "source": [
    "txt = gaz.Soup(response.text)\n",
    "table = txt.find('table', {'class': 'wikitable'}, partial=True)[0]\n",
    "table = table.find(\"tr\")[1:]"
   ]
  },
  {
   "cell_type": "code",
   "execution_count": 25,
   "metadata": {},
   "outputs": [
    {
     "data": {
      "text/plain": [
       "list"
      ]
     },
     "execution_count": 25,
     "metadata": {},
     "output_type": "execute_result"
    }
   ],
   "source": [
    "type(table)"
   ]
  },
  {
   "cell_type": "code",
   "execution_count": 26,
   "metadata": {},
   "outputs": [
    {
     "name": "stdout",
     "output_type": "stream",
     "text": [
      "<class 'gazpacho.soup.Soup'>\n",
      "<tr>\n",
      "  <td>\n",
      "    <a href=\"/wiki/%2739\" title=\"'39\">'39</a>\n",
      "  </td>\n",
      "  <td>Folk rock\n",
      "</td>\n",
      "  <td>1975\n",
      "</td>\n",
      "  <td>\n",
      "    <a href=\"/wiki/A_Night_At_The_Opera\" title=\"A Night At The Opera\">A Night At The Opera</a>\n",
      "  </td>\n",
      "  <td>\n",
      "    <a href=\"/wiki/Brian_May\" title=\"Brian May\">May</a>\n",
      "  </td>\n",
      "  <td>May\n",
      "</td>\n",
      "</tr>\n"
     ]
    }
   ],
   "source": [
    "print(type(table[0]))\n",
    "print(table[0])"
   ]
  },
  {
   "cell_type": "code",
   "execution_count": 27,
   "metadata": {},
   "outputs": [],
   "source": [
    "title, genre, year, album, authors, vocals = [], [], [], [], [], []\n",
    "\n",
    "for line in table:\n",
    "    song = line.find(\"td\")\n",
    "    \n",
    "    tt, alb, auth = map(extract_text, [song[0], song[3], song[4]])\n",
    "    gnr, yr, voc = map(strip_text, [song[1], song[2], song[5]])\n",
    "    \n",
    "    list_vars = [title, album, authors, genre, year, vocals]\n",
    "    values = [tt, alb, auth, gnr, yr, voc]\n",
    "\n",
    "    list(map(lambda lst, val: lst.append(val), list_vars, values))\n"
   ]
  },
  {
   "cell_type": "code",
   "execution_count": 28,
   "metadata": {},
   "outputs": [],
   "source": [
    "clean_au = []\n",
    "for au in authors:\n",
    "    res = au\n",
    "    if \"/\" in au:\n",
    "        if \"(\" and \")\" in au:\n",
    "            res = au[au.index(\"(\") + 1: -1]\n",
    "            \n",
    "        res = \", \".join(res.split(\"/\"))\n",
    "    else:\n",
    "        if \"(\" and \")\" in au:\n",
    "            res = au[au.index(\"(\") + 1: -1]\n",
    "            \n",
    "    clean_au.append(res)"
   ]
  },
  {
   "cell_type": "code",
   "execution_count": 29,
   "metadata": {},
   "outputs": [
    {
     "name": "stdout",
     "output_type": "stream",
     "text": [
      "['May', '', 'Taylor', 'May', 'Queen', 'Deacon', 'Deacon', 'Deacon', 'May', 'Mercury', 'May, Mercury', 'Queen', 'Mercury', 'Mercury', 'Taylor, Mercury', 'May', 'Mercury', 'Taylor', 'May', 'Taylor', 'Deacon, Mercury', 'May', 'Mercury', 'May', 'May', 'May', 'Mercury', 'Mercury', 'Tim Staffell', 'Taylor', 'Mercury', 'Mercury', 'Mercury', 'Taylor', 'May', 'May', 'Taylor', 'Taylor', 'Deacon', 'Mercury', 'May', 'May', 'Taylor', 'May', 'May', 'May', 'Mercury', 'Mercury', 'May', 'Mercury, Deacon', 'Taylor', 'Mercury', 'Mercury', 'May', 'Traditional, Arr. May', 'May', 'Mercury', 'Mercury', 'May', 'Queen', 'May', 'Taylor', 'May', 'Queen', 'Queen', 'Taylor', 'May', 'May', 'May', 'Deacon', 'Mercury', 'Mercury', 'Taylor', 'Deacon', 'Deacon', 'Taylor', 'Mercury', 'Mercury', 'Taylor', 'Queen', 'Taylor', 'Mercury, May', 'Queen', 'Mercury', 'May', 'Mercury', 'Mercury', 'Mercury', 'May', 'Queen', 'Mercury', 'Taylor', 'Mercury', 'May', 'Mercury', 'May', 'Mercury', 'Queen', 'Mercury', 'Mercury', 'Mercury', 'May', 'Taylor', 'May', 'Mercury', 'May, Taylor', 'Mercury', 'Mercury', 'Mercury', 'Mercury', 'May, Taylor', 'Mercury', 'Mercury', 'Queen', 'Deacon', 'Taylor', 'Taylor', 'May, Mercury', 'Mercury', 'Deacon, Mercury', 'Mercury', 'Deacon', 'Mercury', 'Deacon', 'Mercury', 'May', 'May', 'May', 'Mercury', 'Queen', 'Deacon', 'Mercury, Deacon', 'Queen', 'Mercury', 'Mercury', 'May', 'May', 'May', 'Taylor', 'Deacon, Mercury', 'Taylor', 'Mercury', 'Taylor', 'May', 'May', 'May', 'Mercury', 'May', 'Mercury', 'Mercury', 'May', 'Taylor', 'May', 'May', 'May', 'Mercury', 'May', 'Queen', 'Deacon', 'Mercury', 'Queen', 'Deacon, May, Mercury, Taylor', 'May', 'May', 'Taylor', 'May', 'Taylor, May', 'Taylor', 'May', 'May, Frank Musker, Elizibeth Lamers', 'Queen, David Bowie', 'Mercury', 'Mercury', 'Mercury', 'May', 'Arr. May', 'May', 'May', 'Deacon', 'May', 'Queen', 'Queen', 'Deacon', 'Queen', 'Mercury', 'Deacon']\n"
     ]
    }
   ],
   "source": [
    "print(clean_au)"
   ]
  },
  {
   "cell_type": "code",
   "execution_count": 30,
   "metadata": {},
   "outputs": [],
   "source": [
    "def removeParan(text):\n",
    "    while \")\" in text:\n",
    "        text = text[: text.index(\"(\")] + text[text.index(\")\") + 1: ]\n",
    "    return text[: -1] if text[-1] == \" \" else text"
   ]
  },
  {
   "cell_type": "code",
   "execution_count": 31,
   "metadata": {},
   "outputs": [
    {
     "data": {
      "text/plain": [
       "'Mercury, May , Taylor'"
      ]
     },
     "execution_count": 31,
     "metadata": {},
     "output_type": "execute_result"
    }
   ],
   "source": [
    "removeParan(\"Mercury, May (one line), Taylor (one line)\")"
   ]
  },
  {
   "cell_type": "code",
   "execution_count": 32,
   "metadata": {},
   "outputs": [
    {
     "data": {
      "text/plain": [
       "'Mercury & Taylor'"
      ]
     },
     "execution_count": 32,
     "metadata": {},
     "output_type": "execute_result"
    }
   ],
   "source": [
    "removeParan(\"Mercury(verses) & Taylor(chorus)\")"
   ]
  },
  {
   "cell_type": "code",
   "execution_count": 33,
   "metadata": {},
   "outputs": [],
   "source": [
    "clean_yr = []\n",
    "for yr in year:\n",
    "    if len(yr) != 4 and \"(\" in yr and \"/\" in yr:\n",
    "        yr = removeParan(yr).split(\"/\")\n",
    "        yr = int(yr[0])\n",
    "    yr = int(yr)\n",
    "    clean_yr.append(yr)"
   ]
  },
  {
   "cell_type": "code",
   "execution_count": 34,
   "metadata": {},
   "outputs": [
    {
     "name": "stdout",
     "output_type": "stream",
     "text": [
      "[1975, 1995, 1982, 1977, 1991, 1980, 1980, 1982, 1980, 1978, 1991, 1985, 1982, 1975, 1989, 1974, 1974, 1982, 1989, 1980, 1982, 1980, 1980, 1982, 1978, 1974, 1975, 1991, 1973, 1986, 1978, 1991, 1980, 1986, 1980, 1978, 1976, 1980, 1980, 1974, 1978, 1974, 1977, 1980, 1980, 1980, 1974, 1980, 1986, 1986, 1978, 1974, 1977, 1986, 1975, 1975, 1976, 1973, 1984, 1989, 1991, 1995, 1980, 1989, 1991, 1980, 1991, 1984, 1989, 1984, 1995, 1991, 1975, 1978, 1978, 1980, 1974, 1974, 1980, 1991, 1989, 1984, 1995, 1984, 1977, 1978, 1973, 1984, 1973, 1989, 1974, 1986, 1980, 1982, 1975, 1978, 1978, 1995, 1973, 1982, 1974, 1976, 1974, 1991, 1975, 1984, 1991, 1995, 1984, 1974, 1980, 1976, 1980, 1989, 1974, 1973, 1978, 1995, 1978, 1989, 1973, 1989, 1977, 1980, 1974, 1973, 1997, 1974, 1974, 1986, 1986, 1986, 1989, 1980, 1986, 1974, 1975, 1982, 1984, 1989, 1991, 1980, 1980, 1980, 1980, 1989, 1975, 1974, 1973, 1974, 1974, 1977, 1991, 1977, 1974, 1976, 1973, 1981, 1977, 1982, 1989, 1974, 1975, 1984, 1974, 1976, 1984, 1991, 1976, 1995, 1981, 1980, 1989, 1977, 1977, 1980, 1976, 1974, 1977, 1986, 1995, 1995, 1976, 1995, 1976, 1975]\n"
     ]
    }
   ],
   "source": [
    "print(clean_yr)"
   ]
  },
  {
   "cell_type": "code",
   "execution_count": 35,
   "metadata": {},
   "outputs": [],
   "source": [
    "clean_voc = []\n",
    "for voc in vocals:\n",
    "    if \"(\" and \")\" in voc:\n",
    "        voc = removeParan(voc)    \n",
    "    if \" & \" in voc:\n",
    "        voc = voc.replace(\" & \", \", \")\n",
    "    if \"with \" in voc:\n",
    "        voc = voc.replace(\"with \", \"\")\n",
    "\n",
    "    clean_voc.append(voc.title())"
   ]
  },
  {
   "cell_type": "code",
   "execution_count": 36,
   "metadata": {},
   "outputs": [
    {
     "name": "stdout",
     "output_type": "stream",
     "text": [
      "['May', '', 'Taylor, Mercury', 'May', 'Mercury', 'Mercury', 'Instrumental', 'Mercury', 'Instrumental', 'Mercury', 'Mercury', 'Mercury, May, Taylor', 'Mercury', 'Mercury', 'Mercury', 'Mercury And May', 'Mercury', 'Mercury', 'Instrumental', 'Taylor, Mercury', 'Mercury', 'May', 'Mercury', 'Mercury', 'Mercury', 'Mercury', 'Mercury', 'Mercury', 'Mercury', 'Taylor, Mercury', 'Mercury', 'Mercury', 'Mercury', 'Instrumental', 'Mercury', 'Mercury', 'Taylor', 'Instrumental', 'Instrumental', 'Mercury', 'Mercury, May', 'Mercury', 'Taylor', 'May, Mercury', 'Instrumental', 'Mercury, May, Taylor', 'Mercury', 'Instrumental', 'Instrumental', 'Mercury', 'Taylor, Mercury', 'Mercury', 'Mercury', 'Mercury', 'Instrumental', 'May', 'Mercury, Mike Stone', 'Mercury', 'Mercury  And May', 'Mercury', 'Mercury', 'Mercury', 'Mercury, May, Taylor', 'Mercury', 'Mercury', 'Taylor', 'Mercury', 'Mercury, May', 'May, Mercury', 'Mercury', 'Mercury', 'Mercury', 'Taylor', 'Mercury', 'Mercury', 'Instrumental', 'Mercury', 'Mercury', 'Instrumental', 'Mercury', 'Taylor, Mercury', 'Mercury', 'Mercury', 'Mercury', 'Mercury', 'Mercury', 'Mercury', 'Mercury', 'Mercury, May , Taylor', 'Mercury', 'Mercury', 'Mercury', 'Instrumental', 'May, Mercury', 'Mercury', 'May', 'Mercury', 'May, Mercury, Taylor', 'Mercury', 'Mercury', 'Mercury', 'May', 'Taylor', 'May', 'Mercury', 'Mercury, Taylor', 'Mercury', 'Mercury', 'Mercury', 'Mercury, Taylor', 'Instrumental', 'Mercury', 'Instrumental', 'Mercury', 'Mercury', 'Taylor', 'Taylor', 'Mercury, May', 'Mercury', 'Mercury', 'Mercury', 'Mercury', 'Mercury', 'Mercury', 'Mercury', 'Mercury', 'May, Taylor', 'Mercury', 'Mercury', 'Mercury', 'Mercury', 'Mercury', 'Mercury', 'Mercury', 'Mercury', 'Instrumental', 'Mercury', 'Mercury', 'Mercury, Taylor', 'Mercury', 'Mercury', 'Instrumental', 'Taylor, Mercury', 'May', 'Mercury', 'Mercury', 'Mercury', 'Mercury', 'Instrumental', 'Mercury', 'May', 'Mercury, Taylor', 'Mercury', 'May', 'May', 'Mercury', 'Mercury', 'Mercury', 'Mercury', 'Mercury', 'Mercury', 'Mercury', 'Mercury', 'Mercury', 'Taylor', 'Mercury', 'Mercury', 'Mercury', 'Mercury', 'Mercury', 'Mercury, David Bowie', 'Instrumental', 'Mercury', 'Mercury', 'Mercury', 'Instrumental', 'Mercury', 'Mercury', 'Mercury', 'May, Mercury', 'Mercury', 'Mercury', 'Mercury, Taylor', 'Mercury', 'Mercury', 'Mercury']\n"
     ]
    }
   ],
   "source": [
    "print(clean_voc)"
   ]
  },
  {
   "cell_type": "code",
   "execution_count": 37,
   "metadata": {},
   "outputs": [],
   "source": [
    "list_of_tuples = list(zip(title, genre, clean_yr, album, clean_au, clean_voc))\n",
    "df3 = pd.DataFrame(list_of_tuples, columns=[\"title\", \"genre\", \"year\", \"album\", \"author(s)\", \"vocal(s)\"])"
   ]
  },
  {
   "cell_type": "code",
   "execution_count": 38,
   "metadata": {},
   "outputs": [
    {
     "data": {
      "text/html": [
       "<div>\n",
       "<style scoped>\n",
       "    .dataframe tbody tr th:only-of-type {\n",
       "        vertical-align: middle;\n",
       "    }\n",
       "\n",
       "    .dataframe tbody tr th {\n",
       "        vertical-align: top;\n",
       "    }\n",
       "\n",
       "    .dataframe thead th {\n",
       "        text-align: right;\n",
       "    }\n",
       "</style>\n",
       "<table border=\"1\" class=\"dataframe\">\n",
       "  <thead>\n",
       "    <tr style=\"text-align: right;\">\n",
       "      <th></th>\n",
       "      <th>title</th>\n",
       "      <th>genre</th>\n",
       "      <th>year</th>\n",
       "      <th>album</th>\n",
       "      <th>author(s)</th>\n",
       "      <th>vocal(s)</th>\n",
       "    </tr>\n",
       "  </thead>\n",
       "  <tbody>\n",
       "    <tr>\n",
       "      <th>0</th>\n",
       "      <td>'39</td>\n",
       "      <td>Folk rock</td>\n",
       "      <td>1975</td>\n",
       "      <td>A Night At The Opera</td>\n",
       "      <td>May</td>\n",
       "      <td>May</td>\n",
       "    </tr>\n",
       "    <tr>\n",
       "      <th>1</th>\n",
       "      <td>13</td>\n",
       "      <td>Progressive rock</td>\n",
       "      <td>1995</td>\n",
       "      <td>Made in Heaven</td>\n",
       "      <td></td>\n",
       "      <td></td>\n",
       "    </tr>\n",
       "    <tr>\n",
       "      <th>2</th>\n",
       "      <td>Action This Day</td>\n",
       "      <td>Electronic rock</td>\n",
       "      <td>1982</td>\n",
       "      <td>Hot Space</td>\n",
       "      <td>Taylor</td>\n",
       "      <td>Taylor, Mercury</td>\n",
       "    </tr>\n",
       "    <tr>\n",
       "      <th>3</th>\n",
       "      <td>All Dead, All Dead</td>\n",
       "      <td>Baroque pop</td>\n",
       "      <td>1977</td>\n",
       "      <td>News of The World</td>\n",
       "      <td>May</td>\n",
       "      <td>May</td>\n",
       "    </tr>\n",
       "    <tr>\n",
       "      <th>4</th>\n",
       "      <td>All God's People</td>\n",
       "      <td>Progressive rock</td>\n",
       "      <td>1991</td>\n",
       "      <td>Innuendo</td>\n",
       "      <td>Queen</td>\n",
       "      <td>Mercury</td>\n",
       "    </tr>\n",
       "  </tbody>\n",
       "</table>\n",
       "</div>"
      ],
      "text/plain": [
       "                title             genre  year                 album author(s)  \\\n",
       "0                 '39         Folk rock  1975  A Night At The Opera       May   \n",
       "1                  13  Progressive rock  1995        Made in Heaven             \n",
       "2     Action This Day   Electronic rock  1982             Hot Space    Taylor   \n",
       "3  All Dead, All Dead       Baroque pop  1977     News of The World       May   \n",
       "4    All God's People  Progressive rock  1991              Innuendo     Queen   \n",
       "\n",
       "          vocal(s)  \n",
       "0              May  \n",
       "1                   \n",
       "2  Taylor, Mercury  \n",
       "3              May  \n",
       "4          Mercury  "
      ]
     },
     "execution_count": 38,
     "metadata": {},
     "output_type": "execute_result"
    }
   ],
   "source": [
    "df3.head()"
   ]
  },
  {
   "cell_type": "code",
   "execution_count": 39,
   "metadata": {},
   "outputs": [
    {
     "data": {
      "text/plain": [
       "title        object\n",
       "genre        object\n",
       "year          int64\n",
       "album        object\n",
       "author(s)    object\n",
       "vocal(s)     object\n",
       "dtype: object"
      ]
     },
     "execution_count": 39,
     "metadata": {},
     "output_type": "execute_result"
    }
   ],
   "source": [
    "df3.dtypes"
   ]
  },
  {
   "cell_type": "markdown",
   "metadata": {},
   "source": [
    "# Join table and Cleaning recheck"
   ]
  },
  {
   "cell_type": "code",
   "execution_count": 40,
   "metadata": {},
   "outputs": [
    {
     "data": {
      "text/html": [
       "<div>\n",
       "<style scoped>\n",
       "    .dataframe tbody tr th:only-of-type {\n",
       "        vertical-align: middle;\n",
       "    }\n",
       "\n",
       "    .dataframe tbody tr th {\n",
       "        vertical-align: top;\n",
       "    }\n",
       "\n",
       "    .dataframe thead th {\n",
       "        text-align: right;\n",
       "    }\n",
       "</style>\n",
       "<table border=\"1\" class=\"dataframe\">\n",
       "  <thead>\n",
       "    <tr style=\"text-align: right;\">\n",
       "      <th></th>\n",
       "      <th>title</th>\n",
       "      <th>genre</th>\n",
       "      <th>year</th>\n",
       "      <th>album</th>\n",
       "      <th>author(s)</th>\n",
       "      <th>vocal(s)</th>\n",
       "      <th>streams</th>\n",
       "      <th>daily</th>\n",
       "    </tr>\n",
       "  </thead>\n",
       "  <tbody>\n",
       "    <tr>\n",
       "      <th>0</th>\n",
       "      <td>'39</td>\n",
       "      <td>Folk rock</td>\n",
       "      <td>1975</td>\n",
       "      <td>A Night At The Opera</td>\n",
       "      <td>May</td>\n",
       "      <td>May</td>\n",
       "      <td>74677482</td>\n",
       "      <td>19795</td>\n",
       "    </tr>\n",
       "    <tr>\n",
       "      <th>1</th>\n",
       "      <td>Action This Day</td>\n",
       "      <td>Electronic rock</td>\n",
       "      <td>1982</td>\n",
       "      <td>Hot Space</td>\n",
       "      <td>Taylor</td>\n",
       "      <td>Taylor, Mercury</td>\n",
       "      <td>3365368</td>\n",
       "      <td>905</td>\n",
       "    </tr>\n",
       "    <tr>\n",
       "      <th>2</th>\n",
       "      <td>All Dead, All Dead</td>\n",
       "      <td>Baroque pop</td>\n",
       "      <td>1977</td>\n",
       "      <td>News of The World</td>\n",
       "      <td>May</td>\n",
       "      <td>May</td>\n",
       "      <td>25486429</td>\n",
       "      <td>3790</td>\n",
       "    </tr>\n",
       "    <tr>\n",
       "      <th>3</th>\n",
       "      <td>All God's People</td>\n",
       "      <td>Progressive rock</td>\n",
       "      <td>1991</td>\n",
       "      <td>Innuendo</td>\n",
       "      <td>Queen</td>\n",
       "      <td>Mercury</td>\n",
       "      <td>3546032</td>\n",
       "      <td>1051</td>\n",
       "    </tr>\n",
       "    <tr>\n",
       "      <th>4</th>\n",
       "      <td>Another One Bites the Dust</td>\n",
       "      <td>Funk rock</td>\n",
       "      <td>1980</td>\n",
       "      <td>The Game</td>\n",
       "      <td>Deacon</td>\n",
       "      <td>Mercury</td>\n",
       "      <td>10602123</td>\n",
       "      <td>2465</td>\n",
       "    </tr>\n",
       "  </tbody>\n",
       "</table>\n",
       "</div>"
      ],
      "text/plain": [
       "                        title             genre  year                 album  \\\n",
       "0                         '39         Folk rock  1975  A Night At The Opera   \n",
       "1             Action This Day   Electronic rock  1982             Hot Space   \n",
       "2          All Dead, All Dead       Baroque pop  1977     News of The World   \n",
       "3            All God's People  Progressive rock  1991              Innuendo   \n",
       "4  Another One Bites the Dust         Funk rock  1980              The Game   \n",
       "\n",
       "  author(s)         vocal(s)   streams  daily  \n",
       "0       May              May  74677482  19795  \n",
       "1    Taylor  Taylor, Mercury   3365368    905  \n",
       "2       May              May  25486429   3790  \n",
       "3     Queen          Mercury   3546032   1051  \n",
       "4    Deacon          Mercury  10602123   2465  "
      ]
     },
     "execution_count": 40,
     "metadata": {},
     "output_type": "execute_result"
    }
   ],
   "source": [
    "df = df3.merge(df2, on=\"title\", how=\"inner\")\n",
    "df.head()"
   ]
  },
  {
   "cell_type": "code",
   "execution_count": 41,
   "metadata": {},
   "outputs": [
    {
     "data": {
      "text/html": [
       "<div>\n",
       "<style scoped>\n",
       "    .dataframe tbody tr th:only-of-type {\n",
       "        vertical-align: middle;\n",
       "    }\n",
       "\n",
       "    .dataframe tbody tr th {\n",
       "        vertical-align: top;\n",
       "    }\n",
       "\n",
       "    .dataframe thead th {\n",
       "        text-align: right;\n",
       "    }\n",
       "</style>\n",
       "<table border=\"1\" class=\"dataframe\">\n",
       "  <thead>\n",
       "    <tr style=\"text-align: right;\">\n",
       "      <th></th>\n",
       "      <th>title</th>\n",
       "      <th>genre</th>\n",
       "      <th>year</th>\n",
       "      <th>album</th>\n",
       "      <th>author(s)</th>\n",
       "      <th>vocal(s)</th>\n",
       "      <th>streams</th>\n",
       "      <th>daily</th>\n",
       "    </tr>\n",
       "  </thead>\n",
       "  <tbody>\n",
       "  </tbody>\n",
       "</table>\n",
       "</div>"
      ],
      "text/plain": [
       "Empty DataFrame\n",
       "Columns: [title, genre, year, album, author(s), vocal(s), streams, daily]\n",
       "Index: []"
      ]
     },
     "execution_count": 41,
     "metadata": {},
     "output_type": "execute_result"
    }
   ],
   "source": [
    "duplicates = df.duplicated(subset=\"title\", keep=False)\n",
    "df[duplicates]"
   ]
  },
  {
   "cell_type": "code",
   "execution_count": 42,
   "metadata": {},
   "outputs": [
    {
     "data": {
      "text/html": [
       "<div>\n",
       "<style scoped>\n",
       "    .dataframe tbody tr th:only-of-type {\n",
       "        vertical-align: middle;\n",
       "    }\n",
       "\n",
       "    .dataframe tbody tr th {\n",
       "        vertical-align: top;\n",
       "    }\n",
       "\n",
       "    .dataframe thead th {\n",
       "        text-align: right;\n",
       "    }\n",
       "</style>\n",
       "<table border=\"1\" class=\"dataframe\">\n",
       "  <thead>\n",
       "    <tr style=\"text-align: right;\">\n",
       "      <th></th>\n",
       "      <th>title</th>\n",
       "      <th>genre</th>\n",
       "      <th>year</th>\n",
       "      <th>album</th>\n",
       "      <th>author(s)</th>\n",
       "      <th>vocal(s)</th>\n",
       "      <th>streams</th>\n",
       "      <th>daily</th>\n",
       "      <th>minute</th>\n",
       "    </tr>\n",
       "  </thead>\n",
       "  <tbody>\n",
       "    <tr>\n",
       "      <th>0</th>\n",
       "      <td>All Dead, All Dead</td>\n",
       "      <td>Baroque pop</td>\n",
       "      <td>1977</td>\n",
       "      <td>News of The World</td>\n",
       "      <td>May</td>\n",
       "      <td>May</td>\n",
       "      <td>25486429</td>\n",
       "      <td>3790</td>\n",
       "      <td>3.17</td>\n",
       "    </tr>\n",
       "    <tr>\n",
       "      <th>1</th>\n",
       "      <td>Bicycle Race</td>\n",
       "      <td>Progressive rock</td>\n",
       "      <td>1978</td>\n",
       "      <td>Jazz</td>\n",
       "      <td>Mercury</td>\n",
       "      <td>Mercury</td>\n",
       "      <td>163814960</td>\n",
       "      <td>46242</td>\n",
       "      <td>3.06</td>\n",
       "    </tr>\n",
       "    <tr>\n",
       "      <th>2</th>\n",
       "      <td>Bohemian Rhapsody</td>\n",
       "      <td>Progressive rock Baroque pop Art rock</td>\n",
       "      <td>1975</td>\n",
       "      <td>A Night At The Opera</td>\n",
       "      <td>Mercury</td>\n",
       "      <td>Mercury</td>\n",
       "      <td>2702397004</td>\n",
       "      <td>927623</td>\n",
       "      <td>5.98</td>\n",
       "    </tr>\n",
       "    <tr>\n",
       "      <th>3</th>\n",
       "      <td>Breakthru</td>\n",
       "      <td>Pop rock</td>\n",
       "      <td>1989</td>\n",
       "      <td>The Miracle</td>\n",
       "      <td>Taylor, Mercury</td>\n",
       "      <td>Mercury</td>\n",
       "      <td>74520062</td>\n",
       "      <td>23937</td>\n",
       "      <td>4.15</td>\n",
       "    </tr>\n",
       "    <tr>\n",
       "      <th>4</th>\n",
       "      <td>Crazy Little Thing Called Love</td>\n",
       "      <td>Rockabilly</td>\n",
       "      <td>1980</td>\n",
       "      <td>The Game</td>\n",
       "      <td>Mercury</td>\n",
       "      <td>Mercury</td>\n",
       "      <td>1050455163</td>\n",
       "      <td>506686</td>\n",
       "      <td>2.74</td>\n",
       "    </tr>\n",
       "  </tbody>\n",
       "</table>\n",
       "</div>"
      ],
      "text/plain": [
       "                            title                                  genre  \\\n",
       "0              All Dead, All Dead                            Baroque pop   \n",
       "1                    Bicycle Race                       Progressive rock   \n",
       "2               Bohemian Rhapsody  Progressive rock Baroque pop Art rock   \n",
       "3                       Breakthru                               Pop rock   \n",
       "4  Crazy Little Thing Called Love                             Rockabilly   \n",
       "\n",
       "   year                 album        author(s) vocal(s)     streams   daily  \\\n",
       "0  1977     News of The World              May      May    25486429    3790   \n",
       "1  1978                  Jazz          Mercury  Mercury   163814960   46242   \n",
       "2  1975  A Night At The Opera          Mercury  Mercury  2702397004  927623   \n",
       "3  1989           The Miracle  Taylor, Mercury  Mercury    74520062   23937   \n",
       "4  1980              The Game          Mercury  Mercury  1050455163  506686   \n",
       "\n",
       "   minute  \n",
       "0    3.17  \n",
       "1    3.06  \n",
       "2    5.98  \n",
       "3    4.15  \n",
       "4    2.74  "
      ]
     },
     "execution_count": 42,
     "metadata": {},
     "output_type": "execute_result"
    }
   ],
   "source": [
    "df_wlen = df.merge(chinook, on=\"title\", how=\"inner\")\n",
    "df_wlen.head()"
   ]
  },
  {
   "cell_type": "code",
   "execution_count": 43,
   "metadata": {},
   "outputs": [
    {
     "data": {
      "text/plain": [
       "31"
      ]
     },
     "execution_count": 43,
     "metadata": {},
     "output_type": "execute_result"
    }
   ],
   "source": [
    "len(df_wlen)"
   ]
  },
  {
   "cell_type": "code",
   "execution_count": 44,
   "metadata": {},
   "outputs": [
    {
     "data": {
      "text/html": [
       "<div>\n",
       "<style scoped>\n",
       "    .dataframe tbody tr th:only-of-type {\n",
       "        vertical-align: middle;\n",
       "    }\n",
       "\n",
       "    .dataframe tbody tr th {\n",
       "        vertical-align: top;\n",
       "    }\n",
       "\n",
       "    .dataframe thead th {\n",
       "        text-align: right;\n",
       "    }\n",
       "</style>\n",
       "<table border=\"1\" class=\"dataframe\">\n",
       "  <thead>\n",
       "    <tr style=\"text-align: right;\">\n",
       "      <th></th>\n",
       "      <th>title</th>\n",
       "      <th>genre</th>\n",
       "      <th>year</th>\n",
       "      <th>album</th>\n",
       "      <th>author(s)</th>\n",
       "      <th>vocal(s)</th>\n",
       "      <th>streams</th>\n",
       "      <th>daily</th>\n",
       "      <th>minute</th>\n",
       "    </tr>\n",
       "  </thead>\n",
       "  <tbody>\n",
       "    <tr>\n",
       "      <th>28</th>\n",
       "      <td>We Will Rock You</td>\n",
       "      <td>Hard rock</td>\n",
       "      <td>1977</td>\n",
       "      <td>News of The World</td>\n",
       "      <td>May</td>\n",
       "      <td>Mercury</td>\n",
       "      <td>1458541650</td>\n",
       "      <td>555322</td>\n",
       "      <td>2.05</td>\n",
       "    </tr>\n",
       "    <tr>\n",
       "      <th>29</th>\n",
       "      <td>We Will Rock You</td>\n",
       "      <td>Hard rock</td>\n",
       "      <td>1977</td>\n",
       "      <td>News of The World</td>\n",
       "      <td>May</td>\n",
       "      <td>Mercury</td>\n",
       "      <td>1458541650</td>\n",
       "      <td>555322</td>\n",
       "      <td>2.04</td>\n",
       "    </tr>\n",
       "  </tbody>\n",
       "</table>\n",
       "</div>"
      ],
      "text/plain": [
       "               title      genre  year              album author(s) vocal(s)  \\\n",
       "28  We Will Rock You  Hard rock  1977  News of The World       May  Mercury   \n",
       "29  We Will Rock You  Hard rock  1977  News of The World       May  Mercury   \n",
       "\n",
       "       streams   daily  minute  \n",
       "28  1458541650  555322    2.05  \n",
       "29  1458541650  555322    2.04  "
      ]
     },
     "execution_count": 44,
     "metadata": {},
     "output_type": "execute_result"
    }
   ],
   "source": [
    "duplicates = df_wlen.duplicated(subset=\"title\", keep=False)\n",
    "df_wlen[duplicates]"
   ]
  },
  {
   "cell_type": "code",
   "execution_count": 45,
   "metadata": {},
   "outputs": [
    {
     "data": {
      "text/html": [
       "<div>\n",
       "<style scoped>\n",
       "    .dataframe tbody tr th:only-of-type {\n",
       "        vertical-align: middle;\n",
       "    }\n",
       "\n",
       "    .dataframe tbody tr th {\n",
       "        vertical-align: top;\n",
       "    }\n",
       "\n",
       "    .dataframe thead th {\n",
       "        text-align: right;\n",
       "    }\n",
       "</style>\n",
       "<table border=\"1\" class=\"dataframe\">\n",
       "  <thead>\n",
       "    <tr style=\"text-align: right;\">\n",
       "      <th></th>\n",
       "      <th>title</th>\n",
       "      <th>genre</th>\n",
       "      <th>year</th>\n",
       "      <th>album</th>\n",
       "      <th>author(s)</th>\n",
       "      <th>vocal(s)</th>\n",
       "      <th>streams</th>\n",
       "      <th>daily</th>\n",
       "      <th>minute</th>\n",
       "    </tr>\n",
       "  </thead>\n",
       "  <tbody>\n",
       "    <tr>\n",
       "      <th>28</th>\n",
       "      <td>We Will Rock You</td>\n",
       "      <td>Hard rock</td>\n",
       "      <td>1977</td>\n",
       "      <td>News of The World</td>\n",
       "      <td>May</td>\n",
       "      <td>Mercury</td>\n",
       "      <td>1458541650</td>\n",
       "      <td>555322</td>\n",
       "      <td>2.05</td>\n",
       "    </tr>\n",
       "  </tbody>\n",
       "</table>\n",
       "</div>"
      ],
      "text/plain": [
       "               title      genre  year              album author(s) vocal(s)  \\\n",
       "28  We Will Rock You  Hard rock  1977  News of The World       May  Mercury   \n",
       "\n",
       "       streams   daily  minute  \n",
       "28  1458541650  555322    2.05  "
      ]
     },
     "execution_count": 45,
     "metadata": {},
     "output_type": "execute_result"
    }
   ],
   "source": [
    "df_wlen = df_wlen.drop_duplicates(subset=\"title\", keep=\"first\")\n",
    "df_wlen[df_wlen[\"title\"] == \"We Will Rock You\"]"
   ]
  },
  {
   "cell_type": "markdown",
   "metadata": {},
   "source": [
    "# Data Analysis and Visualization"
   ]
  },
  {
   "cell_type": "code",
   "execution_count": 46,
   "metadata": {},
   "outputs": [],
   "source": [
    "import matplotlib.pyplot as plt\n",
    "import numpy as np"
   ]
  },
  {
   "cell_type": "markdown",
   "metadata": {},
   "source": [
    "## Top 10 Most Popular Songs"
   ]
  },
  {
   "cell_type": "code",
   "execution_count": 47,
   "metadata": {},
   "outputs": [
    {
     "data": {
      "text/html": [
       "<div>\n",
       "<style scoped>\n",
       "    .dataframe tbody tr th:only-of-type {\n",
       "        vertical-align: middle;\n",
       "    }\n",
       "\n",
       "    .dataframe tbody tr th {\n",
       "        vertical-align: top;\n",
       "    }\n",
       "\n",
       "    .dataframe thead th {\n",
       "        text-align: right;\n",
       "    }\n",
       "</style>\n",
       "<table border=\"1\" class=\"dataframe\">\n",
       "  <thead>\n",
       "    <tr style=\"text-align: right;\">\n",
       "      <th></th>\n",
       "      <th>title</th>\n",
       "      <th>streams</th>\n",
       "      <th>daily</th>\n",
       "    </tr>\n",
       "  </thead>\n",
       "  <tbody>\n",
       "    <tr>\n",
       "      <th>10</th>\n",
       "      <td>Bohemian Rhapsody</td>\n",
       "      <td>2702397004</td>\n",
       "      <td>927623</td>\n",
       "    </tr>\n",
       "    <tr>\n",
       "      <th>25</th>\n",
       "      <td>Don't Stop Me Now</td>\n",
       "      <td>2231639815</td>\n",
       "      <td>997621</td>\n",
       "    </tr>\n",
       "    <tr>\n",
       "      <th>129</th>\n",
       "      <td>Under Pressure</td>\n",
       "      <td>1804381395</td>\n",
       "      <td>899984</td>\n",
       "    </tr>\n",
       "    <tr>\n",
       "      <th>131</th>\n",
       "      <td>We Will Rock You</td>\n",
       "      <td>1458541650</td>\n",
       "      <td>555322</td>\n",
       "    </tr>\n",
       "    <tr>\n",
       "      <th>18</th>\n",
       "      <td>Crazy Little Thing Called Love</td>\n",
       "      <td>1050455163</td>\n",
       "      <td>506686</td>\n",
       "    </tr>\n",
       "    <tr>\n",
       "      <th>73</th>\n",
       "      <td>Killer Queen</td>\n",
       "      <td>940827544</td>\n",
       "      <td>335568</td>\n",
       "    </tr>\n",
       "    <tr>\n",
       "      <th>106</th>\n",
       "      <td>Radio Ga Ga</td>\n",
       "      <td>624446835</td>\n",
       "      <td>282492</td>\n",
       "    </tr>\n",
       "    <tr>\n",
       "      <th>116</th>\n",
       "      <td>The Show Must Go On</td>\n",
       "      <td>452990254</td>\n",
       "      <td>177471</td>\n",
       "    </tr>\n",
       "    <tr>\n",
       "      <th>139</th>\n",
       "      <td>You're My Best Friend</td>\n",
       "      <td>388027269</td>\n",
       "      <td>158146</td>\n",
       "    </tr>\n",
       "    <tr>\n",
       "      <th>45</th>\n",
       "      <td>Good Old-Fashioned Lover Boy</td>\n",
       "      <td>371326564</td>\n",
       "      <td>153127</td>\n",
       "    </tr>\n",
       "  </tbody>\n",
       "</table>\n",
       "</div>"
      ],
      "text/plain": [
       "                              title     streams   daily\n",
       "10                Bohemian Rhapsody  2702397004  927623\n",
       "25                Don't Stop Me Now  2231639815  997621\n",
       "129                  Under Pressure  1804381395  899984\n",
       "131                We Will Rock You  1458541650  555322\n",
       "18   Crazy Little Thing Called Love  1050455163  506686\n",
       "73                     Killer Queen   940827544  335568\n",
       "106                     Radio Ga Ga   624446835  282492\n",
       "116             The Show Must Go On   452990254  177471\n",
       "139           You're My Best Friend   388027269  158146\n",
       "45     Good Old-Fashioned Lover Boy   371326564  153127"
      ]
     },
     "execution_count": 47,
     "metadata": {},
     "output_type": "execute_result"
    }
   ],
   "source": [
    "song_hit = df.sort_values(by=\"streams\", ascending=False)\n",
    "song_hit = song_hit.iloc[:10][[\"title\", \"streams\", \"daily\"]]\n",
    "song_hit"
   ]
  },
  {
   "cell_type": "code",
   "execution_count": 48,
   "metadata": {},
   "outputs": [
    {
     "data": {
      "image/png": "[encoded data removed]",
      "text/plain": [
       "<Figure size 1000x600 with 1 Axes>"
      ]
     },
     "metadata": {},
     "output_type": "display_data"
    }
   ],
   "source": [
    "plt.figure(figsize=(10, 6))\n",
    "plt.bar(song_hit[\"title\"], song_hit[\"streams\"])\n",
    "\n",
    "plt.xlabel(\"Title\")\n",
    "plt.ylabel(\"Total Streams\")\n",
    "plt.title(\"Top 10 Most Popular Songs (Total Streams)\")\n",
    "plt.xticks(rotation=45, ha=\"right\")\n",
    "\n",
    "plt.tight_layout()\n",
    "plt.show()"
   ]
  },
  {
   "cell_type": "markdown",
   "metadata": {},
   "source": [
    "## Length of Top 10 Most Popular Songs"
   ]
  },
  {
   "cell_type": "code",
   "execution_count": null,
   "metadata": {},
   "outputs": [
    {
     "data": {
      "text/html": [
       "<div>\n",
       "<style scoped>\n",
       "    .dataframe tbody tr th:only-of-type {\n",
       "        vertical-align: middle;\n",
       "    }\n",
       "\n",
       "    .dataframe tbody tr th {\n",
       "        vertical-align: top;\n",
       "    }\n",
       "\n",
       "    .dataframe thead th {\n",
       "        text-align: right;\n",
       "    }\n",
       "</style>\n",
       "<table border=\"1\" class=\"dataframe\">\n",
       "  <thead>\n",
       "    <tr style=\"text-align: right;\">\n",
       "      <th></th>\n",
       "      <th>title</th>\n",
       "      <th>genre</th>\n",
       "      <th>year</th>\n",
       "      <th>album</th>\n",
       "      <th>author(s)</th>\n",
       "      <th>vocal(s)</th>\n",
       "      <th>streams</th>\n",
       "      <th>daily</th>\n",
       "      <th>minute</th>\n",
       "    </tr>\n",
       "  </thead>\n",
       "  <tbody>\n",
       "    <tr>\n",
       "      <th>2</th>\n",
       "      <td>Bohemian Rhapsody</td>\n",
       "      <td>Progressive rock Baroque pop Art rock</td>\n",
       "      <td>1975</td>\n",
       "      <td>A Night At The Opera</td>\n",
       "      <td>Mercury</td>\n",
       "      <td>Mercury</td>\n",
       "      <td>2702397004</td>\n",
       "      <td>927623</td>\n",
       "      <td>5.98</td>\n",
       "    </tr>\n",
       "    <tr>\n",
       "      <th>5</th>\n",
       "      <td>Don't Stop Me Now</td>\n",
       "      <td>Pop rock Baroque pop Hard rock</td>\n",
       "      <td>1978</td>\n",
       "      <td>Jazz</td>\n",
       "      <td>Mercury</td>\n",
       "      <td>Mercury</td>\n",
       "      <td>2231639815</td>\n",
       "      <td>997621</td>\n",
       "      <td>3.53</td>\n",
       "    </tr>\n",
       "    <tr>\n",
       "      <th>27</th>\n",
       "      <td>Under Pressure</td>\n",
       "      <td>Hard rock</td>\n",
       "      <td>1981</td>\n",
       "      <td>Hot Space</td>\n",
       "      <td>Queen, David Bowie</td>\n",
       "      <td>Mercury, David Bowie</td>\n",
       "      <td>1804381395</td>\n",
       "      <td>899984</td>\n",
       "      <td>3.94</td>\n",
       "    </tr>\n",
       "    <tr>\n",
       "      <th>28</th>\n",
       "      <td>We Will Rock You</td>\n",
       "      <td>Hard rock</td>\n",
       "      <td>1977</td>\n",
       "      <td>News of The World</td>\n",
       "      <td>May</td>\n",
       "      <td>Mercury</td>\n",
       "      <td>1458541650</td>\n",
       "      <td>555322</td>\n",
       "      <td>2.05</td>\n",
       "    </tr>\n",
       "    <tr>\n",
       "      <th>4</th>\n",
       "      <td>Crazy Little Thing Called Love</td>\n",
       "      <td>Rockabilly</td>\n",
       "      <td>1980</td>\n",
       "      <td>The Game</td>\n",
       "      <td>Mercury</td>\n",
       "      <td>Mercury</td>\n",
       "      <td>1050455163</td>\n",
       "      <td>506686</td>\n",
       "      <td>2.74</td>\n",
       "    </tr>\n",
       "    <tr>\n",
       "      <th>18</th>\n",
       "      <td>Killer Queen</td>\n",
       "      <td>Glam rock Baroque pop Art rock</td>\n",
       "      <td>1974</td>\n",
       "      <td>Sheer Heart Attack</td>\n",
       "      <td>Mercury</td>\n",
       "      <td>Mercury</td>\n",
       "      <td>940827544</td>\n",
       "      <td>335568</td>\n",
       "      <td>3.03</td>\n",
       "    </tr>\n",
       "    <tr>\n",
       "      <th>25</th>\n",
       "      <td>The Show Must Go On</td>\n",
       "      <td>Hard rock</td>\n",
       "      <td>1991</td>\n",
       "      <td>Innuendo</td>\n",
       "      <td>May</td>\n",
       "      <td>Mercury</td>\n",
       "      <td>452990254</td>\n",
       "      <td>177471</td>\n",
       "      <td>4.40</td>\n",
       "    </tr>\n",
       "    <tr>\n",
       "      <th>30</th>\n",
       "      <td>You're My Best Friend</td>\n",
       "      <td>Pop rock</td>\n",
       "      <td>1975</td>\n",
       "      <td>A Night At The Opera</td>\n",
       "      <td>Deacon</td>\n",
       "      <td>Mercury</td>\n",
       "      <td>388027269</td>\n",
       "      <td>158146</td>\n",
       "      <td>2.87</td>\n",
       "    </tr>\n",
       "    <tr>\n",
       "      <th>11</th>\n",
       "      <td>Good Old-Fashioned Lover Boy</td>\n",
       "      <td>Glam rock</td>\n",
       "      <td>1976</td>\n",
       "      <td>A Day At The Races</td>\n",
       "      <td>Mercury</td>\n",
       "      <td>Mercury, Mike Stone</td>\n",
       "      <td>371326564</td>\n",
       "      <td>153127</td>\n",
       "      <td>2.93</td>\n",
       "    </tr>\n",
       "    <tr>\n",
       "      <th>6</th>\n",
       "      <td>Fat Bottomed Girls</td>\n",
       "      <td>Hard rock</td>\n",
       "      <td>1978</td>\n",
       "      <td>Jazz</td>\n",
       "      <td>May</td>\n",
       "      <td>Mercury, May</td>\n",
       "      <td>327655699</td>\n",
       "      <td>131475</td>\n",
       "      <td>3.41</td>\n",
       "    </tr>\n",
       "  </tbody>\n",
       "</table>\n",
       "</div>"
      ],
      "text/plain": [
       "                             title                                  genre  \\\n",
       "2                Bohemian Rhapsody  Progressive rock Baroque pop Art rock   \n",
       "5                Don't Stop Me Now         Pop rock Baroque pop Hard rock   \n",
       "27                  Under Pressure                              Hard rock   \n",
       "28                We Will Rock You                              Hard rock   \n",
       "4   Crazy Little Thing Called Love                             Rockabilly   \n",
       "18                    Killer Queen         Glam rock Baroque pop Art rock   \n",
       "25             The Show Must Go On                              Hard rock   \n",
       "30           You're My Best Friend                               Pop rock   \n",
       "11    Good Old-Fashioned Lover Boy                              Glam rock   \n",
       "6               Fat Bottomed Girls                              Hard rock   \n",
       "\n",
       "    year                 album           author(s)              vocal(s)  \\\n",
       "2   1975  A Night At The Opera             Mercury               Mercury   \n",
       "5   1978                  Jazz             Mercury               Mercury   \n",
       "27  1981             Hot Space  Queen, David Bowie  Mercury, David Bowie   \n",
       "28  1977     News of The World                 May               Mercury   \n",
       "4   1980              The Game             Mercury               Mercury   \n",
       "18  1974    Sheer Heart Attack             Mercury               Mercury   \n",
       "25  1991              Innuendo                 May               Mercury   \n",
       "30  1975  A Night At The Opera              Deacon               Mercury   \n",
       "11  1976    A Day At The Races             Mercury   Mercury, Mike Stone   \n",
       "6   1978                  Jazz                 May          Mercury, May   \n",
       "\n",
       "       streams   daily  minute  \n",
       "2   2702397004  927623    5.98  \n",
       "5   2231639815  997621    3.53  \n",
       "27  1804381395  899984    3.94  \n",
       "28  1458541650  555322    2.05  \n",
       "4   1050455163  506686    2.74  \n",
       "18   940827544  335568    3.03  \n",
       "25   452990254  177471    4.40  \n",
       "30   388027269  158146    2.87  \n",
       "11   371326564  153127    2.93  \n",
       "6    327655699  131475    3.41  "
      ]
     },
     "execution_count": 117,
     "metadata": {},
     "output_type": "execute_result"
    }
   ],
   "source": [
    "song_hit = df_wlen.sort_values(by=\"streams\", ascending=False)\n",
    "song_hit = song_hit.iloc[:10]\n",
    "song_hit"
   ]
  },
  {
   "cell_type": "code",
   "execution_count": null,
   "metadata": {},
   "outputs": [
    {
     "data": {
      "image/png": "[encoded data removed]",
      "text/plain": [
       "<Figure size 1000x600 with 1 Axes>"
      ]
     },
     "metadata": {},
     "output_type": "display_data"
    }
   ],
   "source": [
    "plt.figure(figsize=(10, 6))\n",
    "plt.bar(song_hit[\"title\"], song_hit[\"minute\"])\n",
    "\n",
    "plt.xlabel('Song Name by Total Streams (Descending)')\n",
    "plt.ylabel('Song Length (Minutes)')\n",
    "plt.title('Length of Top 10 Most Popular Songs (Total Streams)')\n",
    "plt.xticks(rotation=45, ha='right')\n",
    "\n",
    "plt.tight_layout()\n",
    "plt.show()"
   ]
  },
  {
   "cell_type": "markdown",
   "metadata": {},
   "source": [
    "## Percentage of Author(s)"
   ]
  },
  {
   "cell_type": "code",
   "execution_count": null,
   "metadata": {},
   "outputs": [],
   "source": [
    "com_df = df.groupby(\"author(s)\")[\"title\"].count().sort_values(ascending=False)"
   ]
  },
  {
   "cell_type": "code",
   "execution_count": null,
   "metadata": {},
   "outputs": [],
   "source": [
    "com_df = com_df[:5]\n",
    "percent = np.array(com_df.values)[:5]\n",
    "mylabels = np.array(com_df.index.values)"
   ]
  },
  {
   "cell_type": "code",
   "execution_count": null,
   "metadata": {},
   "outputs": [
    {
     "data": {
      "image/png": "[encoded data removed]",
      "text/plain": [
       "<Figure size 640x480 with 1 Axes>"
      ]
     },
     "metadata": {},
     "output_type": "display_data"
    }
   ],
   "source": [
    "plt.pie(percent, labels = mylabels, autopct=\"%1.1f%%\")\n",
    "plt.title(\"Percentage of Author(s)\")\n",
    "plt.show()"
   ]
  },
  {
   "cell_type": "markdown",
   "metadata": {},
   "source": [
    "## Percentage of Vocal(s)"
   ]
  },
  {
   "cell_type": "code",
   "execution_count": null,
   "metadata": {},
   "outputs": [],
   "source": [
    "voc_df = df.groupby(\"vocal(s)\")[\"title\"].count().sort_values(ascending=False)\n",
    "voc_df = voc_df[:5]\n",
    "percent = np.array(voc_df.values)[:5]\n",
    "mylabels = np.array(voc_df.index.values)"
   ]
  },
  {
   "cell_type": "code",
   "execution_count": null,
   "metadata": {},
   "outputs": [
    {
     "data": {
      "image/png": "[encoded data removed]",
      "text/plain": [
       "<Figure size 640x480 with 1 Axes>"
      ]
     },
     "metadata": {},
     "output_type": "display_data"
    }
   ],
   "source": [
    "plt.pie(percent, labels = mylabels, autopct=\"%1.1f%%\")\n",
    "plt.title(\"Percentage of Vocal(s)\")\n",
    "plt.show()"
   ]
  }
 ],
 "metadata": {
  "kernelspec": {
   "display_name": "Python 3",
   "language": "python",
   "name": "python3"
  },
  "language_info": {
   "codemirror_mode": {
    "name": "ipython",
    "version": 3
   },
   "file_extension": ".py",
   "mimetype": "text/x-python",
   "name": "python",
   "nbconvert_exporter": "python",
   "pygments_lexer": "ipython3",
   "version": "3.13.1"
  }
 },
 "nbformat": 4,
 "nbformat_minor": 2
}
