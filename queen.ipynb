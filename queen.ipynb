{
 "cells": [
  {
   "cell_type": "markdown",
   "metadata": {},
   "source": [
    "# Connect to Chinook Database"
   ]
  },
  {
   "cell_type": "code",
   "execution_count": 14,
   "metadata": {},
   "outputs": [],
   "source": [
    "from sqlalchemy import create_engine, inspect\n",
    "import pandas as pd"
   ]
  },
  {
   "cell_type": "markdown",
   "metadata": {},
   "source": [
    "### Connect database Chinook.sqlite"
   ]
  },
  {
   "cell_type": "code",
   "execution_count": 15,
   "metadata": {},
   "outputs": [
    {
     "data": {
      "text/plain": [
       "['Album',\n",
       " 'Artist',\n",
       " 'Customer',\n",
       " 'Employee',\n",
       " 'Genre',\n",
       " 'Invoice',\n",
       " 'InvoiceLine',\n",
       " 'MediaType',\n",
       " 'Playlist',\n",
       " 'PlaylistTrack',\n",
       " 'Track']"
      ]
     },
     "execution_count": 15,
     "metadata": {},
     "output_type": "execute_result"
    }
   ],
   "source": [
    "engine = create_engine(\"sqlite:///Chinook.sqlite\")\n",
    "inspector = inspect(engine)\n",
    "table_names = inspector.get_table_names()\n",
    "table_names # Check table names"
   ]
  },
  {
   "cell_type": "markdown",
   "metadata": {},
   "source": [
    "### Check out Queen's artist id"
   ]
  },
  {
   "cell_type": "code",
   "execution_count": 16,
   "metadata": {},
   "outputs": [
    {
     "data": {
      "text/plain": [
       "51"
      ]
     },
     "execution_count": 16,
     "metadata": {},
     "output_type": "execute_result"
    }
   ],
   "source": [
    "queen_df = pd.read_sql_query(\"SELECT * FROM Artist WHERE Name = 'Queen'\", con=engine)\n",
    "queen_id = int(queen_df[\"ArtistId\"].values[0])\n",
    "queen_id"
   ]
  },
  {
   "cell_type": "markdown",
   "metadata": {},
   "source": [
    "### Check out Queen's albums"
   ]
  },
  {
   "cell_type": "code",
   "execution_count": 17,
   "metadata": {},
   "outputs": [
    {
     "data": {
      "text/html": [
       "<div>\n",
       "<style scoped>\n",
       "    .dataframe tbody tr th:only-of-type {\n",
       "        vertical-align: middle;\n",
       "    }\n",
       "\n",
       "    .dataframe tbody tr th {\n",
       "        vertical-align: top;\n",
       "    }\n",
       "\n",
       "    .dataframe thead th {\n",
       "        text-align: right;\n",
       "    }\n",
       "</style>\n",
       "<table border=\"1\" class=\"dataframe\">\n",
       "  <thead>\n",
       "    <tr style=\"text-align: right;\">\n",
       "      <th></th>\n",
       "      <th>AlbumId</th>\n",
       "      <th>Title</th>\n",
       "      <th>ArtistId</th>\n",
       "    </tr>\n",
       "  </thead>\n",
       "  <tbody>\n",
       "    <tr>\n",
       "      <th>0</th>\n",
       "      <td>36</td>\n",
       "      <td>Greatest Hits II</td>\n",
       "      <td>51</td>\n",
       "    </tr>\n",
       "    <tr>\n",
       "      <th>1</th>\n",
       "      <td>185</td>\n",
       "      <td>Greatest Hits I</td>\n",
       "      <td>51</td>\n",
       "    </tr>\n",
       "    <tr>\n",
       "      <th>2</th>\n",
       "      <td>186</td>\n",
       "      <td>News Of The World</td>\n",
       "      <td>51</td>\n",
       "    </tr>\n",
       "  </tbody>\n",
       "</table>\n",
       "</div>"
      ],
      "text/plain": [
       "   AlbumId              Title  ArtistId\n",
       "0       36   Greatest Hits II        51\n",
       "1      185    Greatest Hits I        51\n",
       "2      186  News Of The World        51"
      ]
     },
     "execution_count": 17,
     "metadata": {},
     "output_type": "execute_result"
    }
   ],
   "source": [
    "queen_album = pd.read_sql_query(f\"SELECT * FROM Album WHERE ArtistId = {queen_id}\", con=engine)\n",
    "queen_album"
   ]
  },
  {
   "cell_type": "code",
   "execution_count": 18,
   "metadata": {},
   "outputs": [
    {
     "data": {
      "text/plain": [
       "(36, 185, 186)"
      ]
     },
     "execution_count": 18,
     "metadata": {},
     "output_type": "execute_result"
    }
   ],
   "source": [
    "album_id = queen_album[\"AlbumId\"].values\n",
    "album_id = tuple(map(lambda x: int(x), album_id))\n",
    "album_id"
   ]
  },
  {
   "cell_type": "markdown",
   "metadata": {},
   "source": [
    "### Check out Genre Table"
   ]
  },
  {
   "cell_type": "code",
   "execution_count": 19,
   "metadata": {},
   "outputs": [
    {
     "data": {
      "text/html": [
       "<div>\n",
       "<style scoped>\n",
       "    .dataframe tbody tr th:only-of-type {\n",
       "        vertical-align: middle;\n",
       "    }\n",
       "\n",
       "    .dataframe tbody tr th {\n",
       "        vertical-align: top;\n",
       "    }\n",
       "\n",
       "    .dataframe thead th {\n",
       "        text-align: right;\n",
       "    }\n",
       "</style>\n",
       "<table border=\"1\" class=\"dataframe\">\n",
       "  <thead>\n",
       "    <tr style=\"text-align: right;\">\n",
       "      <th></th>\n",
       "      <th>GenreId</th>\n",
       "      <th>Name</th>\n",
       "    </tr>\n",
       "  </thead>\n",
       "  <tbody>\n",
       "    <tr>\n",
       "      <th>0</th>\n",
       "      <td>1</td>\n",
       "      <td>Rock</td>\n",
       "    </tr>\n",
       "    <tr>\n",
       "      <th>1</th>\n",
       "      <td>2</td>\n",
       "      <td>Jazz</td>\n",
       "    </tr>\n",
       "    <tr>\n",
       "      <th>2</th>\n",
       "      <td>3</td>\n",
       "      <td>Metal</td>\n",
       "    </tr>\n",
       "    <tr>\n",
       "      <th>3</th>\n",
       "      <td>4</td>\n",
       "      <td>Alternative &amp; Punk</td>\n",
       "    </tr>\n",
       "    <tr>\n",
       "      <th>4</th>\n",
       "      <td>5</td>\n",
       "      <td>Rock And Roll</td>\n",
       "    </tr>\n",
       "  </tbody>\n",
       "</table>\n",
       "</div>"
      ],
      "text/plain": [
       "   GenreId                Name\n",
       "0        1                Rock\n",
       "1        2                Jazz\n",
       "2        3               Metal\n",
       "3        4  Alternative & Punk\n",
       "4        5       Rock And Roll"
      ]
     },
     "execution_count": 19,
     "metadata": {},
     "output_type": "execute_result"
    }
   ],
   "source": [
    "genre_df = pd.read_sql_query(\"SELECT * FROM Genre\", con=engine)\n",
    "genre_df.head()"
   ]
  },
  {
   "cell_type": "code",
   "execution_count": 20,
   "metadata": {},
   "outputs": [
    {
     "data": {
      "text/html": [
       "<div>\n",
       "<style scoped>\n",
       "    .dataframe tbody tr th:only-of-type {\n",
       "        vertical-align: middle;\n",
       "    }\n",
       "\n",
       "    .dataframe tbody tr th {\n",
       "        vertical-align: top;\n",
       "    }\n",
       "\n",
       "    .dataframe thead th {\n",
       "        text-align: right;\n",
       "    }\n",
       "</style>\n",
       "<table border=\"1\" class=\"dataframe\">\n",
       "  <thead>\n",
       "    <tr style=\"text-align: right;\">\n",
       "      <th></th>\n",
       "      <th>TrackId</th>\n",
       "      <th>Name</th>\n",
       "      <th>AlbumId</th>\n",
       "      <th>MediaTypeId</th>\n",
       "      <th>GenreId</th>\n",
       "      <th>Composer</th>\n",
       "      <th>Milliseconds</th>\n",
       "      <th>Bytes</th>\n",
       "      <th>UnitPrice</th>\n",
       "    </tr>\n",
       "  </thead>\n",
       "  <tbody>\n",
       "  </tbody>\n",
       "</table>\n",
       "</div>"
      ],
      "text/plain": [
       "Empty DataFrame\n",
       "Columns: [TrackId, Name, AlbumId, MediaTypeId, GenreId, Composer, Milliseconds, Bytes, UnitPrice]\n",
       "Index: []"
      ]
     },
     "execution_count": 20,
     "metadata": {},
     "output_type": "execute_result"
    }
   ],
   "source": [
    "# All Queen's song is Rock\n",
    "queen_genre = pd.read_sql_query(f\"SELECT * FROM Track WHERE AlbumId IN {album_id} AND GenreId != 1\", con=engine)\n",
    "queen_genre"
   ]
  },
  {
   "cell_type": "markdown",
   "metadata": {},
   "source": [
    "### Check out Queen's tracks"
   ]
  },
  {
   "cell_type": "code",
   "execution_count": 21,
   "metadata": {},
   "outputs": [
    {
     "data": {
      "text/plain": [
       "45"
      ]
     },
     "execution_count": 21,
     "metadata": {},
     "output_type": "execute_result"
    }
   ],
   "source": [
    "track_df = pd.read_sql_query(f\"SELECT * FROM Track WHERE AlbumId IN {album_id}\", con=engine)\n",
    "len(track_df)"
   ]
  },
  {
   "cell_type": "markdown",
   "metadata": {},
   "source": [
    "# Do Web Scraping"
   ]
  },
  {
   "cell_type": "code",
   "execution_count": 22,
   "metadata": {},
   "outputs": [],
   "source": [
    "import gazpacho as gaz\n",
    "import requests"
   ]
  },
  {
   "cell_type": "code",
   "execution_count": 23,
   "metadata": {},
   "outputs": [
    {
     "data": {
      "text/plain": [
       "200"
      ]
     },
     "execution_count": 23,
     "metadata": {},
     "output_type": "execute_result"
    }
   ],
   "source": [
    "url = \"https://kworb.net/spotify/artist/1dfeR4HaWDbWqFHLkxsg1d_songs.html\"\n",
    "response = requests.get(url)\n",
    "response.status_code"
   ]
  },
  {
   "cell_type": "code",
   "execution_count": 24,
   "metadata": {},
   "outputs": [],
   "source": [
    "txt = gaz.Soup(response.text)\n",
    "table = txt.find(\"table\")\n",
    "table = table[1].find(\"td\") # find table and td tag"
   ]
  },
  {
   "cell_type": "code",
   "execution_count": 25,
   "metadata": {},
   "outputs": [],
   "source": [
    "songs = []\n",
    "for line in table:\n",
    "    x = line.find(\"td\")\n",
    "    if x:\n",
    "        songs.append(x.strip())"
   ]
  },
  {
   "cell_type": "code",
   "execution_count": 26,
   "metadata": {},
   "outputs": [],
   "source": [
    "song_clean = []\n",
    "total_clean = []\n",
    "daily_clean = []\n",
    "\n",
    "for i in range(0, len(songs), 3):\n",
    "    idx = songs[i].find(\" - \")\n",
    "    res1 = songs[i][:idx]\n",
    "    \n",
    "    clean_res2 = songs[i+1].split(\",\")\n",
    "    res2 = int(\"\".join(clean_res2))\n",
    "    \n",
    "    clean_res3 = songs[i+2].split(\",\")\n",
    "    res3 = int(\"\".join(clean_res3))\n",
    "    \n",
    "    song_clean.append(res1)\n",
    "    total_clean.append(res2)\n",
    "    daily_clean.append(res3)\n",
    "    "
   ]
  },
  {
   "cell_type": "code",
   "execution_count": 27,
   "metadata": {},
   "outputs": [
    {
     "data": {
      "text/plain": [
       "500"
      ]
     },
     "execution_count": 27,
     "metadata": {},
     "output_type": "execute_result"
    }
   ],
   "source": [
    "len(song_clean) # check len of list"
   ]
  },
  {
   "cell_type": "code",
   "execution_count": 28,
   "metadata": {},
   "outputs": [
    {
     "data": {
      "text/html": [
       "<div>\n",
       "<style scoped>\n",
       "    .dataframe tbody tr th:only-of-type {\n",
       "        vertical-align: middle;\n",
       "    }\n",
       "\n",
       "    .dataframe tbody tr th {\n",
       "        vertical-align: top;\n",
       "    }\n",
       "\n",
       "    .dataframe thead th {\n",
       "        text-align: right;\n",
       "    }\n",
       "</style>\n",
       "<table border=\"1\" class=\"dataframe\">\n",
       "  <thead>\n",
       "    <tr style=\"text-align: right;\">\n",
       "      <th></th>\n",
       "      <th>Name</th>\n",
       "      <th>Streams</th>\n",
       "      <th>Daily</th>\n",
       "    </tr>\n",
       "  </thead>\n",
       "  <tbody>\n",
       "    <tr>\n",
       "      <th>0</th>\n",
       "      <td>Bohemian Rhapsody</td>\n",
       "      <td>2700521899</td>\n",
       "      <td>904097</td>\n",
       "    </tr>\n",
       "    <tr>\n",
       "      <th>42</th>\n",
       "      <td>Bohemian Rhapsody</td>\n",
       "      <td>80003277</td>\n",
       "      <td>14016</td>\n",
       "    </tr>\n",
       "    <tr>\n",
       "      <th>80</th>\n",
       "      <td>Bohemian Rhapsody</td>\n",
       "      <td>21912861</td>\n",
       "      <td>5584</td>\n",
       "    </tr>\n",
       "    <tr>\n",
       "      <th>95</th>\n",
       "      <td>Bohemian Rhapsody</td>\n",
       "      <td>14208764</td>\n",
       "      <td>3865</td>\n",
       "    </tr>\n",
       "    <tr>\n",
       "      <th>140</th>\n",
       "      <td>Bohemian Rhapsody</td>\n",
       "      <td>7979168</td>\n",
       "      <td>1804</td>\n",
       "    </tr>\n",
       "    <tr>\n",
       "      <th>187</th>\n",
       "      <td>Bohemian Rhapsody</td>\n",
       "      <td>5081887</td>\n",
       "      <td>547</td>\n",
       "    </tr>\n",
       "    <tr>\n",
       "      <th>225</th>\n",
       "      <td>Bohemian Rhapsody</td>\n",
       "      <td>4184494</td>\n",
       "      <td>576</td>\n",
       "    </tr>\n",
       "    <tr>\n",
       "      <th>283</th>\n",
       "      <td>Bohemian Rhapsody</td>\n",
       "      <td>2967978</td>\n",
       "      <td>206</td>\n",
       "    </tr>\n",
       "    <tr>\n",
       "      <th>289</th>\n",
       "      <td>Bohemian Rhapsody</td>\n",
       "      <td>2915969</td>\n",
       "      <td>562</td>\n",
       "    </tr>\n",
       "    <tr>\n",
       "      <th>407</th>\n",
       "      <td>Bohemian Rhapsody</td>\n",
       "      <td>1316013</td>\n",
       "      <td>321</td>\n",
       "    </tr>\n",
       "    <tr>\n",
       "      <th>418</th>\n",
       "      <td>Bohemian Rhapsody</td>\n",
       "      <td>1222983</td>\n",
       "      <td>228</td>\n",
       "    </tr>\n",
       "    <tr>\n",
       "      <th>482</th>\n",
       "      <td>Bohemian Rhapsody</td>\n",
       "      <td>850494</td>\n",
       "      <td>72</td>\n",
       "    </tr>\n",
       "  </tbody>\n",
       "</table>\n",
       "</div>"
      ],
      "text/plain": [
       "                  Name     Streams   Daily\n",
       "0    Bohemian Rhapsody  2700521899  904097\n",
       "42   Bohemian Rhapsody    80003277   14016\n",
       "80   Bohemian Rhapsody    21912861    5584\n",
       "95   Bohemian Rhapsody    14208764    3865\n",
       "140  Bohemian Rhapsody     7979168    1804\n",
       "187  Bohemian Rhapsody     5081887     547\n",
       "225  Bohemian Rhapsody     4184494     576\n",
       "283  Bohemian Rhapsody     2967978     206\n",
       "289  Bohemian Rhapsody     2915969     562\n",
       "407  Bohemian Rhapsody     1316013     321\n",
       "418  Bohemian Rhapsody     1222983     228\n",
       "482  Bohemian Rhapsody      850494      72"
      ]
     },
     "execution_count": 28,
     "metadata": {},
     "output_type": "execute_result"
    }
   ],
   "source": [
    "list_of_tuples = list(zip(song_clean, total_clean, daily_clean))\n",
    "df = pd.DataFrame(list_of_tuples, columns=[\"Name\", \"Streams\", \"Daily\"])\n",
    "df[df[\"Name\"] == \"Bohemian Rhapsody\"]"
   ]
  },
  {
   "cell_type": "code",
   "execution_count": 29,
   "metadata": {},
   "outputs": [
    {
     "data": {
      "text/html": [
       "<div>\n",
       "<style scoped>\n",
       "    .dataframe tbody tr th:only-of-type {\n",
       "        vertical-align: middle;\n",
       "    }\n",
       "\n",
       "    .dataframe tbody tr th {\n",
       "        vertical-align: top;\n",
       "    }\n",
       "\n",
       "    .dataframe thead th {\n",
       "        text-align: right;\n",
       "    }\n",
       "</style>\n",
       "<table border=\"1\" class=\"dataframe\">\n",
       "  <thead>\n",
       "    <tr style=\"text-align: right;\">\n",
       "      <th></th>\n",
       "      <th>Name</th>\n",
       "      <th>Streams</th>\n",
       "      <th>Daily</th>\n",
       "    </tr>\n",
       "  </thead>\n",
       "  <tbody>\n",
       "    <tr>\n",
       "      <th>200</th>\n",
       "      <td>Man On The Prowl</td>\n",
       "      <td>4736439</td>\n",
       "      <td>1159</td>\n",
       "    </tr>\n",
       "    <tr>\n",
       "      <th>201</th>\n",
       "      <td>We Will Rock You (Fast)</td>\n",
       "      <td>4733540</td>\n",
       "      <td>1117</td>\n",
       "    </tr>\n",
       "    <tr>\n",
       "      <th>202</th>\n",
       "      <td>My Life Has Been Saved</td>\n",
       "      <td>4732262</td>\n",
       "      <td>1380</td>\n",
       "    </tr>\n",
       "    <tr>\n",
       "      <th>203</th>\n",
       "      <td>Rain Must Fall</td>\n",
       "      <td>4635925</td>\n",
       "      <td>1968</td>\n",
       "    </tr>\n",
       "    <tr>\n",
       "      <th>204</th>\n",
       "      <td>Tear It Up</td>\n",
       "      <td>4632574</td>\n",
       "      <td>946</td>\n",
       "    </tr>\n",
       "    <tr>\n",
       "      <th>...</th>\n",
       "      <td>...</td>\n",
       "      <td>...</td>\n",
       "      <td>...</td>\n",
       "    </tr>\n",
       "    <tr>\n",
       "      <th>495</th>\n",
       "      <td>Pain Is So Close To Pleasure</td>\n",
       "      <td>770468</td>\n",
       "      <td>161</td>\n",
       "    </tr>\n",
       "    <tr>\n",
       "      <th>496</th>\n",
       "      <td>Flash</td>\n",
       "      <td>768190</td>\n",
       "      <td>96</td>\n",
       "    </tr>\n",
       "    <tr>\n",
       "      <th>497</th>\n",
       "      <td>Bring Back That Leroy Brown</td>\n",
       "      <td>767488</td>\n",
       "      <td>148</td>\n",
       "    </tr>\n",
       "    <tr>\n",
       "      <th>498</th>\n",
       "      <td>A Kind Of Magic</td>\n",
       "      <td>760677</td>\n",
       "      <td>139</td>\n",
       "    </tr>\n",
       "    <tr>\n",
       "      <th>499</th>\n",
       "      <td>Crazy Little Thing Called Love</td>\n",
       "      <td>760502</td>\n",
       "      <td>97</td>\n",
       "    </tr>\n",
       "  </tbody>\n",
       "</table>\n",
       "<p>300 rows × 3 columns</p>\n",
       "</div>"
      ],
      "text/plain": [
       "                               Name  Streams  Daily\n",
       "200                Man On The Prowl  4736439   1159\n",
       "201         We Will Rock You (Fast)  4733540   1117\n",
       "202          My Life Has Been Saved  4732262   1380\n",
       "203                  Rain Must Fall  4635925   1968\n",
       "204                      Tear It Up  4632574    946\n",
       "..                              ...      ...    ...\n",
       "495    Pain Is So Close To Pleasure   770468    161\n",
       "496                           Flash   768190     96\n",
       "497     Bring Back That Leroy Brown   767488    148\n",
       "498                 A Kind Of Magic   760677    139\n",
       "499  Crazy Little Thing Called Love   760502     97\n",
       "\n",
       "[300 rows x 3 columns]"
      ]
     },
     "execution_count": 29,
     "metadata": {},
     "output_type": "execute_result"
    }
   ],
   "source": [
    "df.iloc[200:]"
   ]
  },
  {
   "cell_type": "markdown",
   "metadata": {},
   "source": [
    "Filter the duplicate name and remain the highest streams column"
   ]
  },
  {
   "cell_type": "code",
   "execution_count": 30,
   "metadata": {},
   "outputs": [
    {
     "data": {
      "text/plain": [
       "243"
      ]
     },
     "execution_count": 30,
     "metadata": {},
     "output_type": "execute_result"
    }
   ],
   "source": [
    "idx = df.groupby(\"Name\")[\"Streams\"].idxmax()\n",
    "df_filtered = df.loc[idx]\n",
    "len(df_filtered)"
   ]
  },
  {
   "cell_type": "markdown",
   "metadata": {},
   "source": [
    "## Data Cleaning"
   ]
  },
  {
   "cell_type": "code",
   "execution_count": 31,
   "metadata": {},
   "outputs": [
    {
     "data": {
      "text/html": [
       "<div>\n",
       "<style scoped>\n",
       "    .dataframe tbody tr th:only-of-type {\n",
       "        vertical-align: middle;\n",
       "    }\n",
       "\n",
       "    .dataframe tbody tr th {\n",
       "        vertical-align: top;\n",
       "    }\n",
       "\n",
       "    .dataframe thead th {\n",
       "        text-align: right;\n",
       "    }\n",
       "</style>\n",
       "<table border=\"1\" class=\"dataframe\">\n",
       "  <thead>\n",
       "    <tr style=\"text-align: right;\">\n",
       "      <th></th>\n",
       "      <th>Name</th>\n",
       "      <th>Streams</th>\n",
       "      <th>Daily</th>\n",
       "      <th>TrackId</th>\n",
       "      <th>AlbumId</th>\n",
       "      <th>MediaTypeId</th>\n",
       "      <th>GenreId</th>\n",
       "      <th>Composer</th>\n",
       "      <th>Milliseconds</th>\n",
       "      <th>Bytes</th>\n",
       "      <th>UnitPrice</th>\n",
       "    </tr>\n",
       "  </thead>\n",
       "  <tbody>\n",
       "    <tr>\n",
       "      <th>0</th>\n",
       "      <td>A Kind Of Magic</td>\n",
       "      <td>296827015</td>\n",
       "      <td>163639</td>\n",
       "      <td>419</td>\n",
       "      <td>36</td>\n",
       "      <td>1</td>\n",
       "      <td>1</td>\n",
       "      <td>Roger Taylor</td>\n",
       "      <td>262608</td>\n",
       "      <td>8689618</td>\n",
       "      <td>0.99</td>\n",
       "    </tr>\n",
       "    <tr>\n",
       "      <th>1</th>\n",
       "      <td>All Dead, All Dead</td>\n",
       "      <td>25478170</td>\n",
       "      <td>3794</td>\n",
       "      <td>2274</td>\n",
       "      <td>186</td>\n",
       "      <td>1</td>\n",
       "      <td>1</td>\n",
       "      <td>May</td>\n",
       "      <td>190119</td>\n",
       "      <td>6144878</td>\n",
       "      <td>0.99</td>\n",
       "    </tr>\n",
       "    <tr>\n",
       "      <th>2</th>\n",
       "      <td>Another One Bites The Dust</td>\n",
       "      <td>2087240597</td>\n",
       "      <td>791461</td>\n",
       "      <td>2255</td>\n",
       "      <td>185</td>\n",
       "      <td>1</td>\n",
       "      <td>1</td>\n",
       "      <td>Deacon, John</td>\n",
       "      <td>216946</td>\n",
       "      <td>7172355</td>\n",
       "      <td>0.99</td>\n",
       "    </tr>\n",
       "    <tr>\n",
       "      <th>3</th>\n",
       "      <td>Bicycle Race</td>\n",
       "      <td>163722437</td>\n",
       "      <td>43247</td>\n",
       "      <td>2258</td>\n",
       "      <td>185</td>\n",
       "      <td>1</td>\n",
       "      <td>1</td>\n",
       "      <td>Mercury, Freddie</td>\n",
       "      <td>183823</td>\n",
       "      <td>6012409</td>\n",
       "      <td>0.99</td>\n",
       "    </tr>\n",
       "    <tr>\n",
       "      <th>4</th>\n",
       "      <td>Bohemian Rhapsody</td>\n",
       "      <td>2700521899</td>\n",
       "      <td>904097</td>\n",
       "      <td>2254</td>\n",
       "      <td>185</td>\n",
       "      <td>1</td>\n",
       "      <td>1</td>\n",
       "      <td>Mercury, Freddie</td>\n",
       "      <td>358948</td>\n",
       "      <td>11619868</td>\n",
       "      <td>0.99</td>\n",
       "    </tr>\n",
       "  </tbody>\n",
       "</table>\n",
       "</div>"
      ],
      "text/plain": [
       "                         Name     Streams   Daily  TrackId  AlbumId  \\\n",
       "0             A Kind Of Magic   296827015  163639      419       36   \n",
       "1          All Dead, All Dead    25478170    3794     2274      186   \n",
       "2  Another One Bites The Dust  2087240597  791461     2255      185   \n",
       "3                Bicycle Race   163722437   43247     2258      185   \n",
       "4           Bohemian Rhapsody  2700521899  904097     2254      185   \n",
       "\n",
       "   MediaTypeId  GenreId          Composer  Milliseconds     Bytes  UnitPrice  \n",
       "0            1        1      Roger Taylor        262608   8689618       0.99  \n",
       "1            1        1               May        190119   6144878       0.99  \n",
       "2            1        1      Deacon, John        216946   7172355       0.99  \n",
       "3            1        1  Mercury, Freddie        183823   6012409       0.99  \n",
       "4            1        1  Mercury, Freddie        358948  11619868       0.99  "
      ]
     },
     "execution_count": 31,
     "metadata": {},
     "output_type": "execute_result"
    }
   ],
   "source": [
    "track_full = pd.merge(df_filtered, track_df, on=\"Name\", how=\"inner\")\n",
    "track_full.head()"
   ]
  },
  {
   "cell_type": "code",
   "execution_count": 32,
   "metadata": {},
   "outputs": [],
   "source": [
    "composer = list(track_full[\"Composer\"])\n",
    "clean1 = []\n",
    "for ele in composer:\n",
    "    if \"/\" in ele:\n",
    "        idx = ele.find(\"/\")\n",
    "        one = ele[:idx]\n",
    "        two = ele[idx+1:]\n",
    "        \n",
    "        if \", \" in one and \", \" in two:\n",
    "            res1 = one.split(\", \")\n",
    "            one = \" \".join(res1)\n",
    "            \n",
    "            res2 = one.split(\", \")\n",
    "            two = \" \".join(res2)\n",
    "        \n",
    "        if one != two:  \n",
    "            clean1.append(one + \" & \" + two)\n",
    "        else:\n",
    "            clean1.append(one)\n",
    "    else:\n",
    "        clean1.append(ele)"
   ]
  },
  {
   "cell_type": "code",
   "execution_count": 33,
   "metadata": {},
   "outputs": [],
   "source": [
    "clean2 = []\n",
    "for ele in clean1:\n",
    "    if \"&\" in ele:\n",
    "         clean2.append(ele)\n",
    "    else:   \n",
    "        if \"Taylor\" in ele or \"Roger\" in ele:\n",
    "            clean2.append(\"Roger Taylor\")\n",
    "        elif \"May\" in ele or \"Brian\" in ele:\n",
    "            clean2.append(\"Brian May\")\n",
    "        elif \"John\" in ele or \"Deacon\" in ele:\n",
    "            clean2.append(\"John Deacon\")\n",
    "        else:\n",
    "            clean2.append(\"Freddie Mercury\")\n",
    "            person = \"Freddie Mercury\""
   ]
  },
  {
   "cell_type": "code",
   "execution_count": 34,
   "metadata": {},
   "outputs": [],
   "source": [
    "clean_df = pd.DataFrame({\"Clean_composer\":clean2})"
   ]
  },
  {
   "cell_type": "code",
   "execution_count": 35,
   "metadata": {},
   "outputs": [
    {
     "data": {
      "text/html": [
       "<div>\n",
       "<style scoped>\n",
       "    .dataframe tbody tr th:only-of-type {\n",
       "        vertical-align: middle;\n",
       "    }\n",
       "\n",
       "    .dataframe tbody tr th {\n",
       "        vertical-align: top;\n",
       "    }\n",
       "\n",
       "    .dataframe thead th {\n",
       "        text-align: right;\n",
       "    }\n",
       "</style>\n",
       "<table border=\"1\" class=\"dataframe\">\n",
       "  <thead>\n",
       "    <tr style=\"text-align: right;\">\n",
       "      <th></th>\n",
       "      <th>Name</th>\n",
       "      <th>Streams</th>\n",
       "      <th>Daily</th>\n",
       "      <th>TrackId</th>\n",
       "      <th>AlbumId</th>\n",
       "      <th>MediaTypeId</th>\n",
       "      <th>GenreId</th>\n",
       "      <th>Milliseconds</th>\n",
       "      <th>Bytes</th>\n",
       "      <th>UnitPrice</th>\n",
       "      <th>Composer</th>\n",
       "    </tr>\n",
       "  </thead>\n",
       "  <tbody>\n",
       "    <tr>\n",
       "      <th>0</th>\n",
       "      <td>A Kind Of Magic</td>\n",
       "      <td>296827015</td>\n",
       "      <td>163639</td>\n",
       "      <td>419</td>\n",
       "      <td>36</td>\n",
       "      <td>1</td>\n",
       "      <td>1</td>\n",
       "      <td>262608</td>\n",
       "      <td>8689618</td>\n",
       "      <td>0.99</td>\n",
       "      <td>Roger Taylor</td>\n",
       "    </tr>\n",
       "    <tr>\n",
       "      <th>1</th>\n",
       "      <td>All Dead, All Dead</td>\n",
       "      <td>25478170</td>\n",
       "      <td>3794</td>\n",
       "      <td>2274</td>\n",
       "      <td>186</td>\n",
       "      <td>1</td>\n",
       "      <td>1</td>\n",
       "      <td>190119</td>\n",
       "      <td>6144878</td>\n",
       "      <td>0.99</td>\n",
       "      <td>Brian May</td>\n",
       "    </tr>\n",
       "    <tr>\n",
       "      <th>2</th>\n",
       "      <td>Another One Bites The Dust</td>\n",
       "      <td>2087240597</td>\n",
       "      <td>791461</td>\n",
       "      <td>2255</td>\n",
       "      <td>185</td>\n",
       "      <td>1</td>\n",
       "      <td>1</td>\n",
       "      <td>216946</td>\n",
       "      <td>7172355</td>\n",
       "      <td>0.99</td>\n",
       "      <td>John Deacon</td>\n",
       "    </tr>\n",
       "    <tr>\n",
       "      <th>3</th>\n",
       "      <td>Bicycle Race</td>\n",
       "      <td>163722437</td>\n",
       "      <td>43247</td>\n",
       "      <td>2258</td>\n",
       "      <td>185</td>\n",
       "      <td>1</td>\n",
       "      <td>1</td>\n",
       "      <td>183823</td>\n",
       "      <td>6012409</td>\n",
       "      <td>0.99</td>\n",
       "      <td>Freddie Mercury</td>\n",
       "    </tr>\n",
       "    <tr>\n",
       "      <th>4</th>\n",
       "      <td>Bohemian Rhapsody</td>\n",
       "      <td>2700521899</td>\n",
       "      <td>904097</td>\n",
       "      <td>2254</td>\n",
       "      <td>185</td>\n",
       "      <td>1</td>\n",
       "      <td>1</td>\n",
       "      <td>358948</td>\n",
       "      <td>11619868</td>\n",
       "      <td>0.99</td>\n",
       "      <td>Freddie Mercury</td>\n",
       "    </tr>\n",
       "  </tbody>\n",
       "</table>\n",
       "</div>"
      ],
      "text/plain": [
       "                         Name     Streams   Daily  TrackId  AlbumId  \\\n",
       "0             A Kind Of Magic   296827015  163639      419       36   \n",
       "1          All Dead, All Dead    25478170    3794     2274      186   \n",
       "2  Another One Bites The Dust  2087240597  791461     2255      185   \n",
       "3                Bicycle Race   163722437   43247     2258      185   \n",
       "4           Bohemian Rhapsody  2700521899  904097     2254      185   \n",
       "\n",
       "   MediaTypeId  GenreId  Milliseconds     Bytes  UnitPrice         Composer  \n",
       "0            1        1        262608   8689618       0.99     Roger Taylor  \n",
       "1            1        1        190119   6144878       0.99        Brian May  \n",
       "2            1        1        216946   7172355       0.99      John Deacon  \n",
       "3            1        1        183823   6012409       0.99  Freddie Mercury  \n",
       "4            1        1        358948  11619868       0.99  Freddie Mercury  "
      ]
     },
     "execution_count": 35,
     "metadata": {},
     "output_type": "execute_result"
    }
   ],
   "source": [
    "track_full[\"Clean_composer\"] = clean_df\n",
    "track_full = track_full.drop(\"Composer\", axis=1)\n",
    "track_full = track_full.rename(columns={\"Clean_composer\":\"Composer\"})\n",
    "track_full.head()"
   ]
  },
  {
   "cell_type": "markdown",
   "metadata": {},
   "source": [
    "# Data analysis and Visualization"
   ]
  },
  {
   "cell_type": "code",
   "execution_count": 36,
   "metadata": {},
   "outputs": [],
   "source": [
    "import matplotlib.pyplot as plt\n",
    "import numpy as np"
   ]
  },
  {
   "cell_type": "markdown",
   "metadata": {},
   "source": [
    "## Total Streams by Album"
   ]
  },
  {
   "cell_type": "code",
   "execution_count": 37,
   "metadata": {},
   "outputs": [
    {
     "data": {
      "image/png": "[encoded data removed]",
      "text/plain": [
       "<Figure size 1000x600 with 1 Axes>"
      ]
     },
     "metadata": {},
     "output_type": "display_data"
    }
   ],
   "source": [
    "album_hit = track_full.groupby(\"AlbumId\")[\"Streams\"].sum()\n",
    "album_hit_df = pd.merge(queen_album, album_hit, on=\"AlbumId\", how=\"inner\").sort_values(\"Streams\")\n",
    "\n",
    "plt.figure(figsize=(10, 6))\n",
    "plt.barh(album_hit_df[\"Title\"], album_hit_df[\"Streams\"])\n",
    "plt.subplots_adjust(left=0.3)\n",
    "\n",
    "plt.ylabel(\"Album Title\")\n",
    "plt.xlabel(\"Total Streams\")\n",
    "plt.title(\"Top 3 Most Popular Albums (Total Streams)\")\n",
    "\n",
    "plt.tight_layout()\n",
    "plt.show()"
   ]
  },
  {
   "cell_type": "markdown",
   "metadata": {},
   "source": [
    "## Top 10 Most Popular Songs"
   ]
  },
  {
   "cell_type": "code",
   "execution_count": 38,
   "metadata": {},
   "outputs": [
    {
     "data": {
      "text/html": [
       "<div>\n",
       "<style scoped>\n",
       "    .dataframe tbody tr th:only-of-type {\n",
       "        vertical-align: middle;\n",
       "    }\n",
       "\n",
       "    .dataframe tbody tr th {\n",
       "        vertical-align: top;\n",
       "    }\n",
       "\n",
       "    .dataframe thead th {\n",
       "        text-align: right;\n",
       "    }\n",
       "</style>\n",
       "<table border=\"1\" class=\"dataframe\">\n",
       "  <thead>\n",
       "    <tr style=\"text-align: right;\">\n",
       "      <th></th>\n",
       "      <th>Name</th>\n",
       "      <th>Streams</th>\n",
       "      <th>Daily</th>\n",
       "    </tr>\n",
       "  </thead>\n",
       "  <tbody>\n",
       "    <tr>\n",
       "      <th>4</th>\n",
       "      <td>Bohemian Rhapsody</td>\n",
       "      <td>2700521899</td>\n",
       "      <td>904097</td>\n",
       "    </tr>\n",
       "    <tr>\n",
       "      <th>7</th>\n",
       "      <td>Don't Stop Me Now</td>\n",
       "      <td>2229570971</td>\n",
       "      <td>1004500</td>\n",
       "    </tr>\n",
       "    <tr>\n",
       "      <th>2</th>\n",
       "      <td>Another One Bites The Dust</td>\n",
       "      <td>2087240597</td>\n",
       "      <td>791461</td>\n",
       "    </tr>\n",
       "    <tr>\n",
       "      <th>35</th>\n",
       "      <td>Under Pressure</td>\n",
       "      <td>1802591503</td>\n",
       "      <td>828859</td>\n",
       "    </tr>\n",
       "    <tr>\n",
       "      <th>38</th>\n",
       "      <td>We Will Rock You</td>\n",
       "      <td>1457441544</td>\n",
       "      <td>496254</td>\n",
       "    </tr>\n",
       "    <tr>\n",
       "      <th>39</th>\n",
       "      <td>We Will Rock You</td>\n",
       "      <td>1457441544</td>\n",
       "      <td>496254</td>\n",
       "    </tr>\n",
       "    <tr>\n",
       "      <th>6</th>\n",
       "      <td>Crazy Little Thing Called Love</td>\n",
       "      <td>1049430077</td>\n",
       "      <td>486873</td>\n",
       "    </tr>\n",
       "    <tr>\n",
       "      <th>30</th>\n",
       "      <td>Somebody To Love</td>\n",
       "      <td>965113019</td>\n",
       "      <td>382939</td>\n",
       "    </tr>\n",
       "    <tr>\n",
       "      <th>22</th>\n",
       "      <td>Killer Queen</td>\n",
       "      <td>940127591</td>\n",
       "      <td>361595</td>\n",
       "    </tr>\n",
       "    <tr>\n",
       "      <th>36</th>\n",
       "      <td>We Are The Champions</td>\n",
       "      <td>780992655</td>\n",
       "      <td>265049</td>\n",
       "    </tr>\n",
       "  </tbody>\n",
       "</table>\n",
       "</div>"
      ],
      "text/plain": [
       "                              Name     Streams    Daily\n",
       "4                Bohemian Rhapsody  2700521899   904097\n",
       "7                Don't Stop Me Now  2229570971  1004500\n",
       "2       Another One Bites The Dust  2087240597   791461\n",
       "35                  Under Pressure  1802591503   828859\n",
       "38                We Will Rock You  1457441544   496254\n",
       "39                We Will Rock You  1457441544   496254\n",
       "6   Crazy Little Thing Called Love  1049430077   486873\n",
       "30                Somebody To Love   965113019   382939\n",
       "22                    Killer Queen   940127591   361595\n",
       "36            We Are The Champions   780992655   265049"
      ]
     },
     "execution_count": 38,
     "metadata": {},
     "output_type": "execute_result"
    }
   ],
   "source": [
    "song_hit = track_full.sort_values(by=\"Streams\", ascending=False)\n",
    "song_hit = song_hit.iloc[:10][[\"Name\", \"Streams\", \"Daily\"]]\n",
    "song_hit"
   ]
  },
  {
   "cell_type": "code",
   "execution_count": 39,
   "metadata": {},
   "outputs": [
    {
     "data": {
      "image/png": "[encoded data removed]",
      "text/plain": [
       "<Figure size 1000x600 with 1 Axes>"
      ]
     },
     "metadata": {},
     "output_type": "display_data"
    }
   ],
   "source": [
    "plt.figure(figsize=(10, 6))\n",
    "plt.bar(song_hit[\"Name\"], song_hit[\"Streams\"])\n",
    "\n",
    "plt.xlabel(\"Song Name\")\n",
    "plt.ylabel(\"Total Streams\")\n",
    "plt.title(\"Top 10 Most Popular Songs (Total Streams)\")\n",
    "plt.xticks(rotation=45, ha=\"right\")\n",
    "\n",
    "plt.tight_layout()\n",
    "plt.show()"
   ]
  },
  {
   "cell_type": "code",
   "execution_count": 40,
   "metadata": {},
   "outputs": [
    {
     "data": {
      "image/png": "[encoded data removed]",
      "text/plain": [
       "<Figure size 1000x600 with 1 Axes>"
      ]
     },
     "metadata": {},
     "output_type": "display_data"
    }
   ],
   "source": [
    "# Restart kernel for lastest update\n",
    "plt.figure(figsize=(10, 6))\n",
    "plt.bar(song_hit[\"Name\"], song_hit[\"Daily\"])\n",
    "\n",
    "plt.xlabel(\"Song Name\")\n",
    "plt.ylabel(\"Daily Streams\")\n",
    "plt.title(\"Top 10 Most Popular Songs (Daily)\")\n",
    "plt.xticks(rotation=45, ha=\"right\")\n",
    "\n",
    "plt.tight_layout()\n",
    "plt.show()"
   ]
  },
  {
   "cell_type": "markdown",
   "metadata": {},
   "source": [
    "## Length of Top 10 Most Popular Songs"
   ]
  },
  {
   "cell_type": "code",
   "execution_count": 41,
   "metadata": {},
   "outputs": [
    {
     "data": {
      "text/html": [
       "<div>\n",
       "<style scoped>\n",
       "    .dataframe tbody tr th:only-of-type {\n",
       "        vertical-align: middle;\n",
       "    }\n",
       "\n",
       "    .dataframe tbody tr th {\n",
       "        vertical-align: top;\n",
       "    }\n",
       "\n",
       "    .dataframe thead th {\n",
       "        text-align: right;\n",
       "    }\n",
       "</style>\n",
       "<table border=\"1\" class=\"dataframe\">\n",
       "  <thead>\n",
       "    <tr style=\"text-align: right;\">\n",
       "      <th></th>\n",
       "      <th>Name</th>\n",
       "      <th>Milliseconds</th>\n",
       "      <th>Minute</th>\n",
       "    </tr>\n",
       "  </thead>\n",
       "  <tbody>\n",
       "    <tr>\n",
       "      <th>4</th>\n",
       "      <td>Bohemian Rhapsody</td>\n",
       "      <td>358948</td>\n",
       "      <td>5.98</td>\n",
       "    </tr>\n",
       "    <tr>\n",
       "      <th>7</th>\n",
       "      <td>Don't Stop Me Now</td>\n",
       "      <td>211826</td>\n",
       "      <td>3.53</td>\n",
       "    </tr>\n",
       "    <tr>\n",
       "      <th>2</th>\n",
       "      <td>Another One Bites The Dust</td>\n",
       "      <td>216946</td>\n",
       "      <td>3.62</td>\n",
       "    </tr>\n",
       "    <tr>\n",
       "      <th>35</th>\n",
       "      <td>Under Pressure</td>\n",
       "      <td>236617</td>\n",
       "      <td>3.94</td>\n",
       "    </tr>\n",
       "    <tr>\n",
       "      <th>38</th>\n",
       "      <td>We Will Rock You</td>\n",
       "      <td>122880</td>\n",
       "      <td>2.05</td>\n",
       "    </tr>\n",
       "    <tr>\n",
       "      <th>39</th>\n",
       "      <td>We Will Rock You</td>\n",
       "      <td>122671</td>\n",
       "      <td>2.04</td>\n",
       "    </tr>\n",
       "    <tr>\n",
       "      <th>6</th>\n",
       "      <td>Crazy Little Thing Called Love</td>\n",
       "      <td>164231</td>\n",
       "      <td>2.74</td>\n",
       "    </tr>\n",
       "    <tr>\n",
       "      <th>30</th>\n",
       "      <td>Somebody To Love</td>\n",
       "      <td>297351</td>\n",
       "      <td>4.96</td>\n",
       "    </tr>\n",
       "    <tr>\n",
       "      <th>22</th>\n",
       "      <td>Killer Queen</td>\n",
       "      <td>182099</td>\n",
       "      <td>3.03</td>\n",
       "    </tr>\n",
       "    <tr>\n",
       "      <th>36</th>\n",
       "      <td>We Are The Champions</td>\n",
       "      <td>180950</td>\n",
       "      <td>3.02</td>\n",
       "    </tr>\n",
       "  </tbody>\n",
       "</table>\n",
       "</div>"
      ],
      "text/plain": [
       "                              Name  Milliseconds  Minute\n",
       "4                Bohemian Rhapsody        358948    5.98\n",
       "7                Don't Stop Me Now        211826    3.53\n",
       "2       Another One Bites The Dust        216946    3.62\n",
       "35                  Under Pressure        236617    3.94\n",
       "38                We Will Rock You        122880    2.05\n",
       "39                We Will Rock You        122671    2.04\n",
       "6   Crazy Little Thing Called Love        164231    2.74\n",
       "30                Somebody To Love        297351    4.96\n",
       "22                    Killer Queen        182099    3.03\n",
       "36            We Are The Champions        180950    3.02"
      ]
     },
     "execution_count": 41,
     "metadata": {},
     "output_type": "execute_result"
    }
   ],
   "source": [
    "song_hit = track_full.sort_values(by=\"Streams\", ascending=False)\n",
    "hit_calculation = song_hit[[\"Name\", \"Milliseconds\"]].iloc[:10]\n",
    "hit_calculation[\"Minute\"] = round(hit_calculation[\"Milliseconds\"] / (1000 * 60.0), 2)\n",
    "hit_calculation"
   ]
  },
  {
   "cell_type": "code",
   "execution_count": 42,
   "metadata": {},
   "outputs": [
    {
     "data": {
      "image/png": "[encoded data removed]",
      "text/plain": [
       "<Figure size 1000x600 with 1 Axes>"
      ]
     },
     "metadata": {},
     "output_type": "display_data"
    }
   ],
   "source": [
    "plt.figure(figsize=(10, 6))\n",
    "plt.bar(hit_calculation['Name'], hit_calculation['Minute'])\n",
    "\n",
    "plt.xlabel('Song Name by Total Streams (Descending)')\n",
    "plt.ylabel('Song Length (Minutes)')\n",
    "plt.title('Length of Top 10 Most Popular Songs (Total Streams)')\n",
    "plt.xticks(rotation=45, ha='right')\n",
    "\n",
    "plt.tight_layout()\n",
    "plt.show()"
   ]
  },
  {
   "cell_type": "markdown",
   "metadata": {},
   "source": [
    "## Percentage of Composers"
   ]
  },
  {
   "cell_type": "code",
   "execution_count": 43,
   "metadata": {},
   "outputs": [],
   "source": [
    "com_df = track_full.groupby(\"Composer\")[\"TrackId\"].count()\n",
    "percent = np.array(com_df.values)\n",
    "mylabels = np.array(com_df.index.values)"
   ]
  },
  {
   "cell_type": "code",
   "execution_count": 44,
   "metadata": {},
   "outputs": [
    {
     "data": {
      "image/png": "[encoded data removed]",
      "text/plain": [
       "<Figure size 640x480 with 1 Axes>"
      ]
     },
     "metadata": {},
     "output_type": "display_data"
    }
   ],
   "source": [
    "plt.pie(percent, labels = mylabels, autopct=\"%1.1f%%\")\n",
    "plt.title(\"Percentage of Composers\")\n",
    "plt.show()"
   ]
  }
 ],
 "metadata": {
  "kernelspec": {
   "display_name": "Python 3",
   "language": "python",
   "name": "python3"
  },
  "language_info": {
   "codemirror_mode": {
    "name": "ipython",
    "version": 3
   },
   "file_extension": ".py",
   "mimetype": "text/x-python",
   "name": "python",
   "nbconvert_exporter": "python",
   "pygments_lexer": "ipython3",
   "version": "3.13.1"
  }
 },
 "nbformat": 4,
 "nbformat_minor": 2
}
