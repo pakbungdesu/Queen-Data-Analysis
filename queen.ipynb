{
 "cells": [
  {
   "cell_type": "markdown",
   "metadata": {},
   "source": [
    "# Connect to Chinook Database"
   ]
  },
  {
   "cell_type": "code",
   "execution_count": 1,
   "metadata": {},
   "outputs": [],
   "source": [
    "from sqlalchemy import create_engine, inspect\n",
    "import pandas as pd"
   ]
  },
  {
   "cell_type": "markdown",
   "metadata": {},
   "source": [
    "### Connect database Chinook.sqlite"
   ]
  },
  {
   "cell_type": "code",
   "execution_count": 2,
   "metadata": {},
   "outputs": [
    {
     "data": {
      "text/plain": [
       "['Album',\n",
       " 'Artist',\n",
       " 'Customer',\n",
       " 'Employee',\n",
       " 'Genre',\n",
       " 'Invoice',\n",
       " 'InvoiceLine',\n",
       " 'MediaType',\n",
       " 'Playlist',\n",
       " 'PlaylistTrack',\n",
       " 'Track']"
      ]
     },
     "execution_count": 2,
     "metadata": {},
     "output_type": "execute_result"
    }
   ],
   "source": [
    "engine = create_engine(\"sqlite:///Chinook.sqlite\")\n",
    "inspector = inspect(engine)\n",
    "table_names = inspector.get_table_names()\n",
    "table_names # Check table names"
   ]
  },
  {
   "cell_type": "markdown",
   "metadata": {},
   "source": [
    "### Check out Queen's artist id"
   ]
  },
  {
   "cell_type": "code",
   "execution_count": 3,
   "metadata": {},
   "outputs": [
    {
     "data": {
      "text/plain": [
       "51"
      ]
     },
     "execution_count": 3,
     "metadata": {},
     "output_type": "execute_result"
    }
   ],
   "source": [
    "queen_df = pd.read_sql_query(\"SELECT * FROM Artist WHERE Name = 'Queen'\", con=engine)\n",
    "queen_id = int(queen_df[\"ArtistId\"].values[0])\n",
    "queen_id"
   ]
  },
  {
   "cell_type": "markdown",
   "metadata": {},
   "source": [
    "### Check out Queen's albums"
   ]
  },
  {
   "cell_type": "code",
   "execution_count": 4,
   "metadata": {},
   "outputs": [
    {
     "data": {
      "text/html": [
       "<div>\n",
       "<style scoped>\n",
       "    .dataframe tbody tr th:only-of-type {\n",
       "        vertical-align: middle;\n",
       "    }\n",
       "\n",
       "    .dataframe tbody tr th {\n",
       "        vertical-align: top;\n",
       "    }\n",
       "\n",
       "    .dataframe thead th {\n",
       "        text-align: right;\n",
       "    }\n",
       "</style>\n",
       "<table border=\"1\" class=\"dataframe\">\n",
       "  <thead>\n",
       "    <tr style=\"text-align: right;\">\n",
       "      <th></th>\n",
       "      <th>AlbumId</th>\n",
       "      <th>Title</th>\n",
       "      <th>ArtistId</th>\n",
       "    </tr>\n",
       "  </thead>\n",
       "  <tbody>\n",
       "    <tr>\n",
       "      <th>0</th>\n",
       "      <td>36</td>\n",
       "      <td>Greatest Hits II</td>\n",
       "      <td>51</td>\n",
       "    </tr>\n",
       "    <tr>\n",
       "      <th>1</th>\n",
       "      <td>185</td>\n",
       "      <td>Greatest Hits I</td>\n",
       "      <td>51</td>\n",
       "    </tr>\n",
       "    <tr>\n",
       "      <th>2</th>\n",
       "      <td>186</td>\n",
       "      <td>News Of The World</td>\n",
       "      <td>51</td>\n",
       "    </tr>\n",
       "  </tbody>\n",
       "</table>\n",
       "</div>"
      ],
      "text/plain": [
       "   AlbumId              Title  ArtistId\n",
       "0       36   Greatest Hits II        51\n",
       "1      185    Greatest Hits I        51\n",
       "2      186  News Of The World        51"
      ]
     },
     "execution_count": 4,
     "metadata": {},
     "output_type": "execute_result"
    }
   ],
   "source": [
    "queen_album = pd.read_sql_query(f\"SELECT * FROM Album WHERE ArtistId = {queen_id}\", con=engine)\n",
    "queen_album"
   ]
  },
  {
   "cell_type": "code",
   "execution_count": 5,
   "metadata": {},
   "outputs": [
    {
     "data": {
      "text/plain": [
       "(36, 185, 186)"
      ]
     },
     "execution_count": 5,
     "metadata": {},
     "output_type": "execute_result"
    }
   ],
   "source": [
    "album_id = queen_album[\"AlbumId\"].values\n",
    "album_id = tuple(map(lambda x: int(x), album_id))\n",
    "album_id"
   ]
  },
  {
   "cell_type": "markdown",
   "metadata": {},
   "source": [
    "### Check out Genre Table"
   ]
  },
  {
   "cell_type": "code",
   "execution_count": 6,
   "metadata": {},
   "outputs": [
    {
     "data": {
      "text/html": [
       "<div>\n",
       "<style scoped>\n",
       "    .dataframe tbody tr th:only-of-type {\n",
       "        vertical-align: middle;\n",
       "    }\n",
       "\n",
       "    .dataframe tbody tr th {\n",
       "        vertical-align: top;\n",
       "    }\n",
       "\n",
       "    .dataframe thead th {\n",
       "        text-align: right;\n",
       "    }\n",
       "</style>\n",
       "<table border=\"1\" class=\"dataframe\">\n",
       "  <thead>\n",
       "    <tr style=\"text-align: right;\">\n",
       "      <th></th>\n",
       "      <th>GenreId</th>\n",
       "      <th>Name</th>\n",
       "    </tr>\n",
       "  </thead>\n",
       "  <tbody>\n",
       "    <tr>\n",
       "      <th>0</th>\n",
       "      <td>1</td>\n",
       "      <td>Rock</td>\n",
       "    </tr>\n",
       "    <tr>\n",
       "      <th>1</th>\n",
       "      <td>2</td>\n",
       "      <td>Jazz</td>\n",
       "    </tr>\n",
       "    <tr>\n",
       "      <th>2</th>\n",
       "      <td>3</td>\n",
       "      <td>Metal</td>\n",
       "    </tr>\n",
       "    <tr>\n",
       "      <th>3</th>\n",
       "      <td>4</td>\n",
       "      <td>Alternative &amp; Punk</td>\n",
       "    </tr>\n",
       "    <tr>\n",
       "      <th>4</th>\n",
       "      <td>5</td>\n",
       "      <td>Rock And Roll</td>\n",
       "    </tr>\n",
       "    <tr>\n",
       "      <th>5</th>\n",
       "      <td>6</td>\n",
       "      <td>Blues</td>\n",
       "    </tr>\n",
       "    <tr>\n",
       "      <th>6</th>\n",
       "      <td>7</td>\n",
       "      <td>Latin</td>\n",
       "    </tr>\n",
       "    <tr>\n",
       "      <th>7</th>\n",
       "      <td>8</td>\n",
       "      <td>Reggae</td>\n",
       "    </tr>\n",
       "    <tr>\n",
       "      <th>8</th>\n",
       "      <td>9</td>\n",
       "      <td>Pop</td>\n",
       "    </tr>\n",
       "    <tr>\n",
       "      <th>9</th>\n",
       "      <td>10</td>\n",
       "      <td>Soundtrack</td>\n",
       "    </tr>\n",
       "    <tr>\n",
       "      <th>10</th>\n",
       "      <td>11</td>\n",
       "      <td>Bossa Nova</td>\n",
       "    </tr>\n",
       "    <tr>\n",
       "      <th>11</th>\n",
       "      <td>12</td>\n",
       "      <td>Easy Listening</td>\n",
       "    </tr>\n",
       "    <tr>\n",
       "      <th>12</th>\n",
       "      <td>13</td>\n",
       "      <td>Heavy Metal</td>\n",
       "    </tr>\n",
       "    <tr>\n",
       "      <th>13</th>\n",
       "      <td>14</td>\n",
       "      <td>R&amp;B/Soul</td>\n",
       "    </tr>\n",
       "    <tr>\n",
       "      <th>14</th>\n",
       "      <td>15</td>\n",
       "      <td>Electronica/Dance</td>\n",
       "    </tr>\n",
       "    <tr>\n",
       "      <th>15</th>\n",
       "      <td>16</td>\n",
       "      <td>World</td>\n",
       "    </tr>\n",
       "    <tr>\n",
       "      <th>16</th>\n",
       "      <td>17</td>\n",
       "      <td>Hip Hop/Rap</td>\n",
       "    </tr>\n",
       "    <tr>\n",
       "      <th>17</th>\n",
       "      <td>18</td>\n",
       "      <td>Science Fiction</td>\n",
       "    </tr>\n",
       "    <tr>\n",
       "      <th>18</th>\n",
       "      <td>19</td>\n",
       "      <td>TV Shows</td>\n",
       "    </tr>\n",
       "    <tr>\n",
       "      <th>19</th>\n",
       "      <td>20</td>\n",
       "      <td>Sci Fi &amp; Fantasy</td>\n",
       "    </tr>\n",
       "    <tr>\n",
       "      <th>20</th>\n",
       "      <td>21</td>\n",
       "      <td>Drama</td>\n",
       "    </tr>\n",
       "    <tr>\n",
       "      <th>21</th>\n",
       "      <td>22</td>\n",
       "      <td>Comedy</td>\n",
       "    </tr>\n",
       "    <tr>\n",
       "      <th>22</th>\n",
       "      <td>23</td>\n",
       "      <td>Alternative</td>\n",
       "    </tr>\n",
       "    <tr>\n",
       "      <th>23</th>\n",
       "      <td>24</td>\n",
       "      <td>Classical</td>\n",
       "    </tr>\n",
       "    <tr>\n",
       "      <th>24</th>\n",
       "      <td>25</td>\n",
       "      <td>Opera</td>\n",
       "    </tr>\n",
       "  </tbody>\n",
       "</table>\n",
       "</div>"
      ],
      "text/plain": [
       "    GenreId                Name\n",
       "0         1                Rock\n",
       "1         2                Jazz\n",
       "2         3               Metal\n",
       "3         4  Alternative & Punk\n",
       "4         5       Rock And Roll\n",
       "5         6               Blues\n",
       "6         7               Latin\n",
       "7         8              Reggae\n",
       "8         9                 Pop\n",
       "9        10          Soundtrack\n",
       "10       11          Bossa Nova\n",
       "11       12      Easy Listening\n",
       "12       13         Heavy Metal\n",
       "13       14            R&B/Soul\n",
       "14       15   Electronica/Dance\n",
       "15       16               World\n",
       "16       17         Hip Hop/Rap\n",
       "17       18     Science Fiction\n",
       "18       19            TV Shows\n",
       "19       20    Sci Fi & Fantasy\n",
       "20       21               Drama\n",
       "21       22              Comedy\n",
       "22       23         Alternative\n",
       "23       24           Classical\n",
       "24       25               Opera"
      ]
     },
     "execution_count": 6,
     "metadata": {},
     "output_type": "execute_result"
    }
   ],
   "source": [
    "genre_df = pd.read_sql_query(\"SELECT * FROM Genre\", con=engine)\n",
    "genre_df"
   ]
  },
  {
   "cell_type": "markdown",
   "metadata": {},
   "source": [
    "### Check out Queen's tracks"
   ]
  },
  {
   "cell_type": "code",
   "execution_count": 7,
   "metadata": {},
   "outputs": [
    {
     "data": {
      "text/plain": [
       "45"
      ]
     },
     "execution_count": 7,
     "metadata": {},
     "output_type": "execute_result"
    }
   ],
   "source": [
    "track_df = pd.read_sql_query(f\"SELECT * FROM Track WHERE AlbumId IN {album_id}\", con=engine)\n",
    "len(track_df)"
   ]
  },
  {
   "cell_type": "markdown",
   "metadata": {},
   "source": [
    "# Do Web Scraping"
   ]
  },
  {
   "cell_type": "code",
   "execution_count": 8,
   "metadata": {},
   "outputs": [],
   "source": [
    "import gazpacho as gaz\n",
    "import requests"
   ]
  },
  {
   "cell_type": "code",
   "execution_count": 9,
   "metadata": {},
   "outputs": [
    {
     "data": {
      "text/plain": [
       "200"
      ]
     },
     "execution_count": 9,
     "metadata": {},
     "output_type": "execute_result"
    }
   ],
   "source": [
    "url = \"https://kworb.net/spotify/artist/1dfeR4HaWDbWqFHLkxsg1d_songs.html\"\n",
    "response = requests.get(url)\n",
    "response.status_code # 200 means okay"
   ]
  },
  {
   "cell_type": "code",
   "execution_count": 10,
   "metadata": {},
   "outputs": [],
   "source": [
    "txt = gaz.Soup(response.text)\n",
    "table = txt.find(\"table\")\n",
    "table = table[1].find(\"td\") # find table and td tag"
   ]
  },
  {
   "cell_type": "code",
   "execution_count": 11,
   "metadata": {},
   "outputs": [],
   "source": [
    "songs = []\n",
    "for line in table:\n",
    "    x = line.find(\"td\")\n",
    "    if x:\n",
    "        songs.append(x.strip())"
   ]
  },
  {
   "cell_type": "code",
   "execution_count": 12,
   "metadata": {},
   "outputs": [],
   "source": [
    "song_clean = []\n",
    "total_clean = []\n",
    "daily_clean = []\n",
    "\n",
    "for i in range(0, len(songs), 3):\n",
    "    idx = songs[i].find(\" - \")\n",
    "    res1 = songs[i][:idx]\n",
    "    \n",
    "    clean_res2 = songs[i+1].split(\",\")\n",
    "    res2 = int(\"\".join(clean_res2))\n",
    "    \n",
    "    clean_res3 = songs[i+2].split(\",\")\n",
    "    res3 = int(\"\".join(clean_res3))\n",
    "    \n",
    "    song_clean.append(res1)\n",
    "    total_clean.append(res2)\n",
    "    daily_clean.append(res3)\n",
    "    "
   ]
  },
  {
   "cell_type": "code",
   "execution_count": 13,
   "metadata": {},
   "outputs": [
    {
     "data": {
      "text/plain": [
       "500"
      ]
     },
     "execution_count": 13,
     "metadata": {},
     "output_type": "execute_result"
    }
   ],
   "source": [
    "len(song_clean) # check len of list"
   ]
  },
  {
   "cell_type": "code",
   "execution_count": 14,
   "metadata": {},
   "outputs": [
    {
     "data": {
      "text/html": [
       "<div>\n",
       "<style scoped>\n",
       "    .dataframe tbody tr th:only-of-type {\n",
       "        vertical-align: middle;\n",
       "    }\n",
       "\n",
       "    .dataframe tbody tr th {\n",
       "        vertical-align: top;\n",
       "    }\n",
       "\n",
       "    .dataframe thead th {\n",
       "        text-align: right;\n",
       "    }\n",
       "</style>\n",
       "<table border=\"1\" class=\"dataframe\">\n",
       "  <thead>\n",
       "    <tr style=\"text-align: right;\">\n",
       "      <th></th>\n",
       "      <th>Name</th>\n",
       "      <th>Streams</th>\n",
       "      <th>Daily</th>\n",
       "    </tr>\n",
       "  </thead>\n",
       "  <tbody>\n",
       "    <tr>\n",
       "      <th>0</th>\n",
       "      <td>Bohemian Rhapsody</td>\n",
       "      <td>2675274192</td>\n",
       "      <td>819812</td>\n",
       "    </tr>\n",
       "    <tr>\n",
       "      <th>42</th>\n",
       "      <td>Bohemian Rhapsody</td>\n",
       "      <td>79618247</td>\n",
       "      <td>12356</td>\n",
       "    </tr>\n",
       "    <tr>\n",
       "      <th>80</th>\n",
       "      <td>Bohemian Rhapsody</td>\n",
       "      <td>21756291</td>\n",
       "      <td>5019</td>\n",
       "    </tr>\n",
       "    <tr>\n",
       "      <th>95</th>\n",
       "      <td>Bohemian Rhapsody</td>\n",
       "      <td>14101960</td>\n",
       "      <td>3463</td>\n",
       "    </tr>\n",
       "    <tr>\n",
       "      <th>139</th>\n",
       "      <td>Bohemian Rhapsody</td>\n",
       "      <td>7931720</td>\n",
       "      <td>1583</td>\n",
       "    </tr>\n",
       "    <tr>\n",
       "      <th>187</th>\n",
       "      <td>Bohemian Rhapsody</td>\n",
       "      <td>5066721</td>\n",
       "      <td>520</td>\n",
       "    </tr>\n",
       "    <tr>\n",
       "      <th>224</th>\n",
       "      <td>Bohemian Rhapsody</td>\n",
       "      <td>4167550</td>\n",
       "      <td>541</td>\n",
       "    </tr>\n",
       "    <tr>\n",
       "      <th>283</th>\n",
       "      <td>Bohemian Rhapsody</td>\n",
       "      <td>2962241</td>\n",
       "      <td>218</td>\n",
       "    </tr>\n",
       "    <tr>\n",
       "      <th>289</th>\n",
       "      <td>Bohemian Rhapsody</td>\n",
       "      <td>2900733</td>\n",
       "      <td>491</td>\n",
       "    </tr>\n",
       "    <tr>\n",
       "      <th>407</th>\n",
       "      <td>Bohemian Rhapsody</td>\n",
       "      <td>1308131</td>\n",
       "      <td>242</td>\n",
       "    </tr>\n",
       "    <tr>\n",
       "      <th>418</th>\n",
       "      <td>Bohemian Rhapsody</td>\n",
       "      <td>1216682</td>\n",
       "      <td>200</td>\n",
       "    </tr>\n",
       "    <tr>\n",
       "      <th>481</th>\n",
       "      <td>Bohemian Rhapsody</td>\n",
       "      <td>848301</td>\n",
       "      <td>71</td>\n",
       "    </tr>\n",
       "  </tbody>\n",
       "</table>\n",
       "</div>"
      ],
      "text/plain": [
       "                  Name     Streams   Daily\n",
       "0    Bohemian Rhapsody  2675274192  819812\n",
       "42   Bohemian Rhapsody    79618247   12356\n",
       "80   Bohemian Rhapsody    21756291    5019\n",
       "95   Bohemian Rhapsody    14101960    3463\n",
       "139  Bohemian Rhapsody     7931720    1583\n",
       "187  Bohemian Rhapsody     5066721     520\n",
       "224  Bohemian Rhapsody     4167550     541\n",
       "283  Bohemian Rhapsody     2962241     218\n",
       "289  Bohemian Rhapsody     2900733     491\n",
       "407  Bohemian Rhapsody     1308131     242\n",
       "418  Bohemian Rhapsody     1216682     200\n",
       "481  Bohemian Rhapsody      848301      71"
      ]
     },
     "execution_count": 14,
     "metadata": {},
     "output_type": "execute_result"
    }
   ],
   "source": [
    "list_of_tuples = list(zip(song_clean, total_clean, daily_clean))\n",
    "df = pd.DataFrame(list_of_tuples, columns=[\"Name\", \"Streams\", \"Daily\"])\n",
    "df[df[\"Name\"] == \"Bohemian Rhapsody\"]"
   ]
  },
  {
   "cell_type": "code",
   "execution_count": 15,
   "metadata": {},
   "outputs": [
    {
     "data": {
      "text/html": [
       "<div>\n",
       "<style scoped>\n",
       "    .dataframe tbody tr th:only-of-type {\n",
       "        vertical-align: middle;\n",
       "    }\n",
       "\n",
       "    .dataframe tbody tr th {\n",
       "        vertical-align: top;\n",
       "    }\n",
       "\n",
       "    .dataframe thead th {\n",
       "        text-align: right;\n",
       "    }\n",
       "</style>\n",
       "<table border=\"1\" class=\"dataframe\">\n",
       "  <thead>\n",
       "    <tr style=\"text-align: right;\">\n",
       "      <th></th>\n",
       "      <th>Name</th>\n",
       "      <th>Streams</th>\n",
       "      <th>Daily</th>\n",
       "    </tr>\n",
       "  </thead>\n",
       "  <tbody>\n",
       "    <tr>\n",
       "      <th>200</th>\n",
       "      <td>We Will Rock You (Fast)</td>\n",
       "      <td>4701501</td>\n",
       "      <td>1077</td>\n",
       "    </tr>\n",
       "    <tr>\n",
       "      <th>201</th>\n",
       "      <td>My Life Has Been Saved</td>\n",
       "      <td>4696529</td>\n",
       "      <td>1348</td>\n",
       "    </tr>\n",
       "    <tr>\n",
       "      <th>202</th>\n",
       "      <td>Bohemian Rhapsody / Radio Ga Ga</td>\n",
       "      <td>4672553</td>\n",
       "      <td>2553</td>\n",
       "    </tr>\n",
       "    <tr>\n",
       "      <th>203</th>\n",
       "      <td>Liar</td>\n",
       "      <td>4613168</td>\n",
       "      <td>252</td>\n",
       "    </tr>\n",
       "    <tr>\n",
       "      <th>204</th>\n",
       "      <td>Tear It Up</td>\n",
       "      <td>4607227</td>\n",
       "      <td>856</td>\n",
       "    </tr>\n",
       "    <tr>\n",
       "      <th>...</th>\n",
       "      <td>...</td>\n",
       "      <td>...</td>\n",
       "      <td>...</td>\n",
       "    </tr>\n",
       "    <tr>\n",
       "      <th>495</th>\n",
       "      <td>Pain Is So Close To Pleasure</td>\n",
       "      <td>766167</td>\n",
       "      <td>144</td>\n",
       "    </tr>\n",
       "    <tr>\n",
       "      <th>496</th>\n",
       "      <td>Flash</td>\n",
       "      <td>765439</td>\n",
       "      <td>104</td>\n",
       "    </tr>\n",
       "    <tr>\n",
       "      <th>497</th>\n",
       "      <td>Bring Back That Leroy Brown</td>\n",
       "      <td>763380</td>\n",
       "      <td>150</td>\n",
       "    </tr>\n",
       "    <tr>\n",
       "      <th>498</th>\n",
       "      <td>Crazy Little Thing Called Love</td>\n",
       "      <td>758127</td>\n",
       "      <td>89</td>\n",
       "    </tr>\n",
       "    <tr>\n",
       "      <th>499</th>\n",
       "      <td>A Kind Of Magic</td>\n",
       "      <td>756846</td>\n",
       "      <td>124</td>\n",
       "    </tr>\n",
       "  </tbody>\n",
       "</table>\n",
       "<p>300 rows × 3 columns</p>\n",
       "</div>"
      ],
      "text/plain": [
       "                                Name  Streams  Daily\n",
       "200          We Will Rock You (Fast)  4701501   1077\n",
       "201           My Life Has Been Saved  4696529   1348\n",
       "202  Bohemian Rhapsody / Radio Ga Ga  4672553   2553\n",
       "203                             Liar  4613168    252\n",
       "204                       Tear It Up  4607227    856\n",
       "..                               ...      ...    ...\n",
       "495     Pain Is So Close To Pleasure   766167    144\n",
       "496                            Flash   765439    104\n",
       "497      Bring Back That Leroy Brown   763380    150\n",
       "498   Crazy Little Thing Called Love   758127     89\n",
       "499                  A Kind Of Magic   756846    124\n",
       "\n",
       "[300 rows x 3 columns]"
      ]
     },
     "execution_count": 15,
     "metadata": {},
     "output_type": "execute_result"
    }
   ],
   "source": [
    "df.iloc[200:]"
   ]
  },
  {
   "cell_type": "markdown",
   "metadata": {},
   "source": [
    "Filter the duplicate name and remain the highest streams column"
   ]
  },
  {
   "cell_type": "code",
   "execution_count": 16,
   "metadata": {},
   "outputs": [
    {
     "data": {
      "text/plain": [
       "238"
      ]
     },
     "execution_count": 16,
     "metadata": {},
     "output_type": "execute_result"
    }
   ],
   "source": [
    "idx = df.groupby(\"Name\")[\"Streams\"].idxmax()\n",
    "df_filtered = df.loc[idx]\n",
    "len(df_filtered)"
   ]
  },
  {
   "cell_type": "markdown",
   "metadata": {},
   "source": [
    "## Data Cleaning"
   ]
  },
  {
   "cell_type": "code",
   "execution_count": 50,
   "metadata": {},
   "outputs": [
    {
     "data": {
      "text/html": [
       "<div>\n",
       "<style scoped>\n",
       "    .dataframe tbody tr th:only-of-type {\n",
       "        vertical-align: middle;\n",
       "    }\n",
       "\n",
       "    .dataframe tbody tr th {\n",
       "        vertical-align: top;\n",
       "    }\n",
       "\n",
       "    .dataframe thead th {\n",
       "        text-align: right;\n",
       "    }\n",
       "</style>\n",
       "<table border=\"1\" class=\"dataframe\">\n",
       "  <thead>\n",
       "    <tr style=\"text-align: right;\">\n",
       "      <th></th>\n",
       "      <th>Name</th>\n",
       "      <th>Streams</th>\n",
       "      <th>Daily</th>\n",
       "      <th>TrackId</th>\n",
       "      <th>AlbumId</th>\n",
       "      <th>MediaTypeId</th>\n",
       "      <th>GenreId</th>\n",
       "      <th>Composer</th>\n",
       "      <th>Milliseconds</th>\n",
       "      <th>Bytes</th>\n",
       "      <th>UnitPrice</th>\n",
       "    </tr>\n",
       "  </thead>\n",
       "  <tbody>\n",
       "    <tr>\n",
       "      <th>0</th>\n",
       "      <td>A Kind Of Magic</td>\n",
       "      <td>292238628</td>\n",
       "      <td>148459</td>\n",
       "      <td>419</td>\n",
       "      <td>36</td>\n",
       "      <td>1</td>\n",
       "      <td>1</td>\n",
       "      <td>Roger Taylor</td>\n",
       "      <td>262608</td>\n",
       "      <td>8689618</td>\n",
       "      <td>0.99</td>\n",
       "    </tr>\n",
       "    <tr>\n",
       "      <th>1</th>\n",
       "      <td>All Dead, All Dead</td>\n",
       "      <td>25361437</td>\n",
       "      <td>3982</td>\n",
       "      <td>2274</td>\n",
       "      <td>186</td>\n",
       "      <td>1</td>\n",
       "      <td>1</td>\n",
       "      <td>May</td>\n",
       "      <td>190119</td>\n",
       "      <td>6144878</td>\n",
       "      <td>0.99</td>\n",
       "    </tr>\n",
       "    <tr>\n",
       "      <th>2</th>\n",
       "      <td>Another One Bites The Dust</td>\n",
       "      <td>2063942980</td>\n",
       "      <td>817595</td>\n",
       "      <td>2255</td>\n",
       "      <td>185</td>\n",
       "      <td>1</td>\n",
       "      <td>1</td>\n",
       "      <td>Deacon, John</td>\n",
       "      <td>216946</td>\n",
       "      <td>7172355</td>\n",
       "      <td>0.99</td>\n",
       "    </tr>\n",
       "    <tr>\n",
       "      <th>3</th>\n",
       "      <td>Bicycle Race</td>\n",
       "      <td>162489270</td>\n",
       "      <td>40641</td>\n",
       "      <td>2258</td>\n",
       "      <td>185</td>\n",
       "      <td>1</td>\n",
       "      <td>1</td>\n",
       "      <td>Mercury, Freddie</td>\n",
       "      <td>183823</td>\n",
       "      <td>6012409</td>\n",
       "      <td>0.99</td>\n",
       "    </tr>\n",
       "    <tr>\n",
       "      <th>4</th>\n",
       "      <td>Bohemian Rhapsody</td>\n",
       "      <td>2675274192</td>\n",
       "      <td>819812</td>\n",
       "      <td>2254</td>\n",
       "      <td>185</td>\n",
       "      <td>1</td>\n",
       "      <td>1</td>\n",
       "      <td>Mercury, Freddie</td>\n",
       "      <td>358948</td>\n",
       "      <td>11619868</td>\n",
       "      <td>0.99</td>\n",
       "    </tr>\n",
       "  </tbody>\n",
       "</table>\n",
       "</div>"
      ],
      "text/plain": [
       "                         Name     Streams   Daily  TrackId  AlbumId  \\\n",
       "0             A Kind Of Magic   292238628  148459      419       36   \n",
       "1          All Dead, All Dead    25361437    3982     2274      186   \n",
       "2  Another One Bites The Dust  2063942980  817595     2255      185   \n",
       "3                Bicycle Race   162489270   40641     2258      185   \n",
       "4           Bohemian Rhapsody  2675274192  819812     2254      185   \n",
       "\n",
       "   MediaTypeId  GenreId          Composer  Milliseconds     Bytes  UnitPrice  \n",
       "0            1        1      Roger Taylor        262608   8689618       0.99  \n",
       "1            1        1               May        190119   6144878       0.99  \n",
       "2            1        1      Deacon, John        216946   7172355       0.99  \n",
       "3            1        1  Mercury, Freddie        183823   6012409       0.99  \n",
       "4            1        1  Mercury, Freddie        358948  11619868       0.99  "
      ]
     },
     "execution_count": 50,
     "metadata": {},
     "output_type": "execute_result"
    }
   ],
   "source": [
    "track_full = pd.merge(df_filtered, track_df, on=\"Name\", how=\"inner\")\n",
    "track_full.head()"
   ]
  },
  {
   "cell_type": "code",
   "execution_count": 51,
   "metadata": {},
   "outputs": [],
   "source": [
    "composer = list(track_full[\"Composer\"])\n",
    "clean1 = []\n",
    "for ele in composer:\n",
    "    if \"/\" in ele:\n",
    "        idx = ele.find(\"/\")\n",
    "        one = ele[:idx]\n",
    "        two = ele[idx+1:]\n",
    "        \n",
    "        if \", \" in one and \", \" in two:\n",
    "            res1 = one.split(\", \")\n",
    "            one = \" \".join(res1)\n",
    "            \n",
    "            res2 = one.split(\", \")\n",
    "            two = \" \".join(res2)\n",
    "        \n",
    "        if one != two:  \n",
    "            clean1.append(one + \" & \" + two)\n",
    "        else:\n",
    "            clean1.append(one)\n",
    "    else:\n",
    "        clean1.append(ele)"
   ]
  },
  {
   "cell_type": "code",
   "execution_count": 52,
   "metadata": {},
   "outputs": [
    {
     "data": {
      "text/plain": [
       "['Roger Taylor',\n",
       " 'May',\n",
       " 'Deacon, John',\n",
       " 'Mercury, Freddie',\n",
       " 'Mercury, Freddie',\n",
       " 'Queen',\n",
       " 'Mercury, Freddie',\n",
       " 'Mercury, Freddie',\n",
       " 'May, Brian',\n",
       " 'Taylor',\n",
       " 'May, Brian',\n",
       " 'Freddie Mercury & John Deacon',\n",
       " 'Mercury',\n",
       " 'Mercury, Freddie',\n",
       " 'Brian May',\n",
       " 'Queen',\n",
       " 'Queen',\n",
       " 'John Deacon',\n",
       " 'Queen',\n",
       " 'Queen',\n",
       " 'Freddie Mercury',\n",
       " 'May',\n",
       " 'Mercury, Freddie',\n",
       " 'Mercury',\n",
       " 'May, Brian',\n",
       " 'Queen',\n",
       " 'Mercury, Freddie',\n",
       " 'May, Brian',\n",
       " 'Mercury, Freddie',\n",
       " 'Taylor',\n",
       " 'Mercury, Freddie',\n",
       " 'Deacon',\n",
       " 'Queen',\n",
       " 'Queen',\n",
       " 'Queen',\n",
       " 'Queen & David Bowie',\n",
       " 'Mercury, Freddie',\n",
       " 'Mercury',\n",
       " 'Deacon John',\n",
       " 'May',\n",
       " 'Deacon',\n",
       " 'Brian May',\n",
       " 'Deacon, John']"
      ]
     },
     "execution_count": 52,
     "metadata": {},
     "output_type": "execute_result"
    }
   ],
   "source": [
    "clean1"
   ]
  },
  {
   "cell_type": "code",
   "execution_count": 53,
   "metadata": {},
   "outputs": [],
   "source": [
    "clean2 = []\n",
    "for ele in clean1:\n",
    "    if \"&\" in ele:\n",
    "         clean2.append(ele)\n",
    "    else:   \n",
    "        if \"Taylor\" in ele or \"Roger\" in ele:\n",
    "            clean2.append(\"Roger Taylor\")\n",
    "        elif \"May\" in ele or \"Brian\" in ele:\n",
    "            clean2.append(\"Brian May\")\n",
    "        elif \"John\" in ele or \"Deacon\" in ele:\n",
    "            clean2.append(\"John Deacon\")\n",
    "        else:\n",
    "            clean2.append(\"Freddie Mercury\")\n",
    "            person = \"Freddie Mercury\""
   ]
  },
  {
   "cell_type": "code",
   "execution_count": 55,
   "metadata": {},
   "outputs": [],
   "source": [
    "clean_df = pd.DataFrame({\"Clean_composer\":clean2})"
   ]
  },
  {
   "cell_type": "code",
   "execution_count": 56,
   "metadata": {},
   "outputs": [
    {
     "data": {
      "text/html": [
       "<div>\n",
       "<style scoped>\n",
       "    .dataframe tbody tr th:only-of-type {\n",
       "        vertical-align: middle;\n",
       "    }\n",
       "\n",
       "    .dataframe tbody tr th {\n",
       "        vertical-align: top;\n",
       "    }\n",
       "\n",
       "    .dataframe thead th {\n",
       "        text-align: right;\n",
       "    }\n",
       "</style>\n",
       "<table border=\"1\" class=\"dataframe\">\n",
       "  <thead>\n",
       "    <tr style=\"text-align: right;\">\n",
       "      <th></th>\n",
       "      <th>Name</th>\n",
       "      <th>Streams</th>\n",
       "      <th>Daily</th>\n",
       "      <th>TrackId</th>\n",
       "      <th>AlbumId</th>\n",
       "      <th>MediaTypeId</th>\n",
       "      <th>GenreId</th>\n",
       "      <th>Milliseconds</th>\n",
       "      <th>Bytes</th>\n",
       "      <th>UnitPrice</th>\n",
       "      <th>Composer</th>\n",
       "    </tr>\n",
       "  </thead>\n",
       "  <tbody>\n",
       "    <tr>\n",
       "      <th>0</th>\n",
       "      <td>A Kind Of Magic</td>\n",
       "      <td>292238628</td>\n",
       "      <td>148459</td>\n",
       "      <td>419</td>\n",
       "      <td>36</td>\n",
       "      <td>1</td>\n",
       "      <td>1</td>\n",
       "      <td>262608</td>\n",
       "      <td>8689618</td>\n",
       "      <td>0.99</td>\n",
       "      <td>Roger Taylor</td>\n",
       "    </tr>\n",
       "    <tr>\n",
       "      <th>1</th>\n",
       "      <td>All Dead, All Dead</td>\n",
       "      <td>25361437</td>\n",
       "      <td>3982</td>\n",
       "      <td>2274</td>\n",
       "      <td>186</td>\n",
       "      <td>1</td>\n",
       "      <td>1</td>\n",
       "      <td>190119</td>\n",
       "      <td>6144878</td>\n",
       "      <td>0.99</td>\n",
       "      <td>Brian May</td>\n",
       "    </tr>\n",
       "    <tr>\n",
       "      <th>2</th>\n",
       "      <td>Another One Bites The Dust</td>\n",
       "      <td>2063942980</td>\n",
       "      <td>817595</td>\n",
       "      <td>2255</td>\n",
       "      <td>185</td>\n",
       "      <td>1</td>\n",
       "      <td>1</td>\n",
       "      <td>216946</td>\n",
       "      <td>7172355</td>\n",
       "      <td>0.99</td>\n",
       "      <td>John Deacon</td>\n",
       "    </tr>\n",
       "    <tr>\n",
       "      <th>3</th>\n",
       "      <td>Bicycle Race</td>\n",
       "      <td>162489270</td>\n",
       "      <td>40641</td>\n",
       "      <td>2258</td>\n",
       "      <td>185</td>\n",
       "      <td>1</td>\n",
       "      <td>1</td>\n",
       "      <td>183823</td>\n",
       "      <td>6012409</td>\n",
       "      <td>0.99</td>\n",
       "      <td>Freddie Mercury</td>\n",
       "    </tr>\n",
       "    <tr>\n",
       "      <th>4</th>\n",
       "      <td>Bohemian Rhapsody</td>\n",
       "      <td>2675274192</td>\n",
       "      <td>819812</td>\n",
       "      <td>2254</td>\n",
       "      <td>185</td>\n",
       "      <td>1</td>\n",
       "      <td>1</td>\n",
       "      <td>358948</td>\n",
       "      <td>11619868</td>\n",
       "      <td>0.99</td>\n",
       "      <td>Freddie Mercury</td>\n",
       "    </tr>\n",
       "  </tbody>\n",
       "</table>\n",
       "</div>"
      ],
      "text/plain": [
       "                         Name     Streams   Daily  TrackId  AlbumId  \\\n",
       "0             A Kind Of Magic   292238628  148459      419       36   \n",
       "1          All Dead, All Dead    25361437    3982     2274      186   \n",
       "2  Another One Bites The Dust  2063942980  817595     2255      185   \n",
       "3                Bicycle Race   162489270   40641     2258      185   \n",
       "4           Bohemian Rhapsody  2675274192  819812     2254      185   \n",
       "\n",
       "   MediaTypeId  GenreId  Milliseconds     Bytes  UnitPrice         Composer  \n",
       "0            1        1        262608   8689618       0.99     Roger Taylor  \n",
       "1            1        1        190119   6144878       0.99        Brian May  \n",
       "2            1        1        216946   7172355       0.99      John Deacon  \n",
       "3            1        1        183823   6012409       0.99  Freddie Mercury  \n",
       "4            1        1        358948  11619868       0.99  Freddie Mercury  "
      ]
     },
     "execution_count": 56,
     "metadata": {},
     "output_type": "execute_result"
    }
   ],
   "source": [
    "track_full[\"Clean_composer\"] = clean_df\n",
    "track_full = track_full.drop(\"Composer\", axis=1)\n",
    "track_full = track_full.rename(columns={\"Clean_composer\":\"Composer\"})\n",
    "track_full.head()"
   ]
  },
  {
   "cell_type": "markdown",
   "metadata": {},
   "source": [
    "# Data analysis and Visualization"
   ]
  },
  {
   "cell_type": "code",
   "execution_count": 22,
   "metadata": {},
   "outputs": [],
   "source": [
    "import matplotlib.pyplot as plt\n",
    "import numpy as np"
   ]
  },
  {
   "cell_type": "markdown",
   "metadata": {},
   "source": [
    "## Sum of Total Streams by album"
   ]
  },
  {
   "cell_type": "code",
   "execution_count": 31,
   "metadata": {},
   "outputs": [
    {
     "data": {
      "image/png": "[encoded data removed]",
      "text/plain": [
       "<Figure size 1000x600 with 1 Axes>"
      ]
     },
     "metadata": {},
     "output_type": "display_data"
    }
   ],
   "source": [
    "album_hit = track_full.groupby(\"AlbumId\")[\"Streams\"].sum()\n",
    "album_hit_df = pd.merge(queen_album, album_hit, on=\"AlbumId\", how=\"inner\").sort_values(\"Streams\")\n",
    "\n",
    "plt.figure(figsize=(10, 6))\n",
    "plt.barh(album_hit_df[\"Title\"], album_hit_df[\"Streams\"])\n",
    "plt.subplots_adjust(left=0.3)\n",
    "\n",
    "plt.ylabel(\"Album Title\")\n",
    "plt.xlabel(\"Total Streams\")\n",
    "plt.title(\"Top 3 Most Popular Albums (Total Streams)\")\n",
    "\n",
    "plt.tight_layout()\n",
    "plt.show()"
   ]
  },
  {
   "cell_type": "markdown",
   "metadata": {},
   "source": [
    "## Top 10 Most Popular Songs"
   ]
  },
  {
   "cell_type": "code",
   "execution_count": 24,
   "metadata": {},
   "outputs": [
    {
     "data": {
      "text/html": [
       "<div>\n",
       "<style scoped>\n",
       "    .dataframe tbody tr th:only-of-type {\n",
       "        vertical-align: middle;\n",
       "    }\n",
       "\n",
       "    .dataframe tbody tr th {\n",
       "        vertical-align: top;\n",
       "    }\n",
       "\n",
       "    .dataframe thead th {\n",
       "        text-align: right;\n",
       "    }\n",
       "</style>\n",
       "<table border=\"1\" class=\"dataframe\">\n",
       "  <thead>\n",
       "    <tr style=\"text-align: right;\">\n",
       "      <th></th>\n",
       "      <th>Name</th>\n",
       "      <th>Streams</th>\n",
       "      <th>Daily</th>\n",
       "    </tr>\n",
       "  </thead>\n",
       "  <tbody>\n",
       "    <tr>\n",
       "      <th>4</th>\n",
       "      <td>Bohemian Rhapsody</td>\n",
       "      <td>2675274192</td>\n",
       "      <td>819812</td>\n",
       "    </tr>\n",
       "    <tr>\n",
       "      <th>7</th>\n",
       "      <td>Don't Stop Me Now</td>\n",
       "      <td>2200566686</td>\n",
       "      <td>979838</td>\n",
       "    </tr>\n",
       "    <tr>\n",
       "      <th>2</th>\n",
       "      <td>Another One Bites The Dust</td>\n",
       "      <td>2063942980</td>\n",
       "      <td>817595</td>\n",
       "    </tr>\n",
       "    <tr>\n",
       "      <th>35</th>\n",
       "      <td>Under Pressure</td>\n",
       "      <td>1779255021</td>\n",
       "      <td>770943</td>\n",
       "    </tr>\n",
       "    <tr>\n",
       "      <th>38</th>\n",
       "      <td>We Will Rock You</td>\n",
       "      <td>1442065328</td>\n",
       "      <td>547185</td>\n",
       "    </tr>\n",
       "    <tr>\n",
       "      <th>39</th>\n",
       "      <td>We Will Rock You</td>\n",
       "      <td>1442065328</td>\n",
       "      <td>547185</td>\n",
       "    </tr>\n",
       "    <tr>\n",
       "      <th>6</th>\n",
       "      <td>Crazy Little Thing Called Love</td>\n",
       "      <td>1034581179</td>\n",
       "      <td>561987</td>\n",
       "    </tr>\n",
       "    <tr>\n",
       "      <th>30</th>\n",
       "      <td>Somebody To Love</td>\n",
       "      <td>955183008</td>\n",
       "      <td>313256</td>\n",
       "    </tr>\n",
       "    <tr>\n",
       "      <th>22</th>\n",
       "      <td>Killer Queen</td>\n",
       "      <td>929750759</td>\n",
       "      <td>359533</td>\n",
       "    </tr>\n",
       "    <tr>\n",
       "      <th>36</th>\n",
       "      <td>We Are The Champions</td>\n",
       "      <td>773235534</td>\n",
       "      <td>248829</td>\n",
       "    </tr>\n",
       "  </tbody>\n",
       "</table>\n",
       "</div>"
      ],
      "text/plain": [
       "                              Name     Streams   Daily\n",
       "4                Bohemian Rhapsody  2675274192  819812\n",
       "7                Don't Stop Me Now  2200566686  979838\n",
       "2       Another One Bites The Dust  2063942980  817595\n",
       "35                  Under Pressure  1779255021  770943\n",
       "38                We Will Rock You  1442065328  547185\n",
       "39                We Will Rock You  1442065328  547185\n",
       "6   Crazy Little Thing Called Love  1034581179  561987\n",
       "30                Somebody To Love   955183008  313256\n",
       "22                    Killer Queen   929750759  359533\n",
       "36            We Are The Champions   773235534  248829"
      ]
     },
     "execution_count": 24,
     "metadata": {},
     "output_type": "execute_result"
    }
   ],
   "source": [
    "song_hit = track_full.sort_values(by=\"Streams\", ascending=False)\n",
    "song_hit = song_hit.iloc[:10][[\"Name\", \"Streams\", \"Daily\"]]\n",
    "song_hit"
   ]
  },
  {
   "cell_type": "code",
   "execution_count": 25,
   "metadata": {},
   "outputs": [
    {
     "data": {
      "image/png": "[encoded data removed]",
      "text/plain": [
       "<Figure size 1000x600 with 1 Axes>"
      ]
     },
     "metadata": {},
     "output_type": "display_data"
    }
   ],
   "source": [
    "plt.figure(figsize=(10, 6))\n",
    "plt.bar(song_hit[\"Name\"], song_hit[\"Streams\"])\n",
    "\n",
    "plt.xlabel(\"Song Name\")\n",
    "plt.ylabel(\"Total Streams\")\n",
    "plt.title(\"Top 10 Most Popular Songs (Total Streams)\")\n",
    "plt.xticks(rotation=45, ha=\"right\")\n",
    "\n",
    "plt.tight_layout()\n",
    "plt.show()"
   ]
  },
  {
   "cell_type": "code",
   "execution_count": 26,
   "metadata": {},
   "outputs": [
    {
     "data": {
      "image/png": "[encoded data removed]",
      "text/plain": [
       "<Figure size 1000x600 with 1 Axes>"
      ]
     },
     "metadata": {},
     "output_type": "display_data"
    }
   ],
   "source": [
    "# Restart kernel for lastest update\n",
    "plt.figure(figsize=(10, 6))\n",
    "plt.bar(song_hit[\"Name\"], song_hit[\"Daily\"])\n",
    "\n",
    "plt.xlabel(\"Song Name\")\n",
    "plt.ylabel(\"Daily Streams\")\n",
    "plt.title(\"Top 10 Most Popular Songs (Daily)\")\n",
    "plt.xticks(rotation=45, ha=\"right\")\n",
    "\n",
    "plt.tight_layout()\n",
    "plt.show()"
   ]
  },
  {
   "cell_type": "markdown",
   "metadata": {},
   "source": [
    "## Length of Top 10 Most Popular Songs"
   ]
  },
  {
   "cell_type": "code",
   "execution_count": 27,
   "metadata": {},
   "outputs": [
    {
     "data": {
      "text/html": [
       "<div>\n",
       "<style scoped>\n",
       "    .dataframe tbody tr th:only-of-type {\n",
       "        vertical-align: middle;\n",
       "    }\n",
       "\n",
       "    .dataframe tbody tr th {\n",
       "        vertical-align: top;\n",
       "    }\n",
       "\n",
       "    .dataframe thead th {\n",
       "        text-align: right;\n",
       "    }\n",
       "</style>\n",
       "<table border=\"1\" class=\"dataframe\">\n",
       "  <thead>\n",
       "    <tr style=\"text-align: right;\">\n",
       "      <th></th>\n",
       "      <th>Name</th>\n",
       "      <th>Milliseconds</th>\n",
       "      <th>Minute</th>\n",
       "    </tr>\n",
       "  </thead>\n",
       "  <tbody>\n",
       "    <tr>\n",
       "      <th>4</th>\n",
       "      <td>Bohemian Rhapsody</td>\n",
       "      <td>358948</td>\n",
       "      <td>5.98</td>\n",
       "    </tr>\n",
       "    <tr>\n",
       "      <th>7</th>\n",
       "      <td>Don't Stop Me Now</td>\n",
       "      <td>211826</td>\n",
       "      <td>3.53</td>\n",
       "    </tr>\n",
       "    <tr>\n",
       "      <th>2</th>\n",
       "      <td>Another One Bites The Dust</td>\n",
       "      <td>216946</td>\n",
       "      <td>3.62</td>\n",
       "    </tr>\n",
       "    <tr>\n",
       "      <th>35</th>\n",
       "      <td>Under Pressure</td>\n",
       "      <td>236617</td>\n",
       "      <td>3.94</td>\n",
       "    </tr>\n",
       "    <tr>\n",
       "      <th>38</th>\n",
       "      <td>We Will Rock You</td>\n",
       "      <td>122880</td>\n",
       "      <td>2.05</td>\n",
       "    </tr>\n",
       "    <tr>\n",
       "      <th>39</th>\n",
       "      <td>We Will Rock You</td>\n",
       "      <td>122671</td>\n",
       "      <td>2.04</td>\n",
       "    </tr>\n",
       "    <tr>\n",
       "      <th>6</th>\n",
       "      <td>Crazy Little Thing Called Love</td>\n",
       "      <td>164231</td>\n",
       "      <td>2.74</td>\n",
       "    </tr>\n",
       "    <tr>\n",
       "      <th>30</th>\n",
       "      <td>Somebody To Love</td>\n",
       "      <td>297351</td>\n",
       "      <td>4.96</td>\n",
       "    </tr>\n",
       "    <tr>\n",
       "      <th>22</th>\n",
       "      <td>Killer Queen</td>\n",
       "      <td>182099</td>\n",
       "      <td>3.03</td>\n",
       "    </tr>\n",
       "    <tr>\n",
       "      <th>36</th>\n",
       "      <td>We Are The Champions</td>\n",
       "      <td>180950</td>\n",
       "      <td>3.02</td>\n",
       "    </tr>\n",
       "  </tbody>\n",
       "</table>\n",
       "</div>"
      ],
      "text/plain": [
       "                              Name  Milliseconds  Minute\n",
       "4                Bohemian Rhapsody        358948    5.98\n",
       "7                Don't Stop Me Now        211826    3.53\n",
       "2       Another One Bites The Dust        216946    3.62\n",
       "35                  Under Pressure        236617    3.94\n",
       "38                We Will Rock You        122880    2.05\n",
       "39                We Will Rock You        122671    2.04\n",
       "6   Crazy Little Thing Called Love        164231    2.74\n",
       "30                Somebody To Love        297351    4.96\n",
       "22                    Killer Queen        182099    3.03\n",
       "36            We Are The Champions        180950    3.02"
      ]
     },
     "execution_count": 27,
     "metadata": {},
     "output_type": "execute_result"
    }
   ],
   "source": [
    "song_hit = track_full.sort_values(by=\"Streams\", ascending=False)\n",
    "hit_calculation = song_hit[[\"Name\", \"Milliseconds\"]].iloc[:10]\n",
    "hit_calculation[\"Minute\"] = round(hit_calculation[\"Milliseconds\"] / (1000 * 60.0), 2)\n",
    "hit_calculation"
   ]
  },
  {
   "cell_type": "code",
   "execution_count": 28,
   "metadata": {},
   "outputs": [
    {
     "data": {
      "image/png": "[encoded data removed]",
      "text/plain": [
       "<Figure size 1000x600 with 1 Axes>"
      ]
     },
     "metadata": {},
     "output_type": "display_data"
    }
   ],
   "source": [
    "plt.figure(figsize=(10, 6))\n",
    "plt.bar(hit_calculation['Name'], hit_calculation['Minute'])\n",
    "\n",
    "plt.xlabel('Song Name by Total Streams (Descending)')\n",
    "plt.ylabel('Song Length (Minutes)')\n",
    "plt.title('Length of Top 10 Most Popular Songs (Total Streams)')\n",
    "plt.xticks(rotation=45, ha='right')\n",
    "\n",
    "plt.tight_layout()\n",
    "plt.show()"
   ]
  },
  {
   "cell_type": "markdown",
   "metadata": {},
   "source": [
    "## Genre of Songs"
   ]
  },
  {
   "cell_type": "code",
   "execution_count": 29,
   "metadata": {},
   "outputs": [
    {
     "data": {
      "text/plain": [
       "1.0"
      ]
     },
     "execution_count": 29,
     "metadata": {},
     "output_type": "execute_result"
    }
   ],
   "source": [
    "queen_genre = pd.merge(track_full, genre_df, on=\"GenreId\", how=\"left\")\n",
    "queen_genre.rename(columns={\"Name_x\": \"Name\", \"Name_y\":\"Genre\"}, inplace=True)\n",
    "queen_genre = queen_genre[\"Genre\"].value_counts(normalize=True)\n",
    "qg = queen_genre.values[0]\n",
    "qg = float(qg)\n",
    "qg"
   ]
  },
  {
   "cell_type": "code",
   "execution_count": 30,
   "metadata": {},
   "outputs": [
    {
     "data": {
      "image/png": "[encoded data removed]",
      "text/plain": [
       "<Figure size 640x480 with 1 Axes>"
      ]
     },
     "metadata": {},
     "output_type": "display_data"
    }
   ],
   "source": [
    "y = np.array([qg])\n",
    "mylabels = [\"Rock\"]\n",
    "\n",
    "plt.pie(y, labels = mylabels, autopct=\"%1.1f%%\")\n",
    "plt.title(\"Genre of Queen's song\")\n",
    "plt.show()"
   ]
  },
  {
   "cell_type": "markdown",
   "metadata": {},
   "source": [
    "## Percentage of Composers"
   ]
  },
  {
   "cell_type": "code",
   "execution_count": 57,
   "metadata": {},
   "outputs": [],
   "source": [
    "com_df = track_full.groupby(\"Composer\")[\"TrackId\"].count()\n",
    "percent = np.array(com_df.values)\n",
    "mylabels = np.array(com_df.index.values)"
   ]
  },
  {
   "cell_type": "code",
   "execution_count": 58,
   "metadata": {},
   "outputs": [
    {
     "data": {
      "image/png": "[encoded data removed]",
      "text/plain": [
       "<Figure size 640x480 with 1 Axes>"
      ]
     },
     "metadata": {},
     "output_type": "display_data"
    }
   ],
   "source": [
    "plt.pie(percent, labels = mylabels, autopct=\"%1.1f%%\")\n",
    "plt.title(\"Percentage of Composers\")\n",
    "plt.show()"
   ]
  }
 ],
 "metadata": {
  "kernelspec": {
   "display_name": "Python 3",
   "language": "python",
   "name": "python3"
  },
  "language_info": {
   "codemirror_mode": {
    "name": "ipython",
    "version": 3
   },
   "file_extension": ".py",
   "mimetype": "text/x-python",
   "name": "python",
   "nbconvert_exporter": "python",
   "pygments_lexer": "ipython3",
   "version": "3.13.1"
  }
 },
 "nbformat": 4,
 "nbformat_minor": 2
}
